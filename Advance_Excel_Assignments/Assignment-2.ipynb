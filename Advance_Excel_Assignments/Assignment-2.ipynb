{
 "cells": [
  {
   "cell_type": "markdown",
   "id": "5a17fd5b",
   "metadata": {},
   "source": [
    "### 1. What does the dollar ($) sign do?"
   ]
  },
  {
   "cell_type": "markdown",
   "id": "da72fb82",
   "metadata": {},
   "source": [
    "#### Ans:\n",
    "    An absolute reference in Excel is a cell address with the dollar sign ($) in the row or column coordinates, like $A$1.\n",
    "\n",
    "The dollar sign fixes the reference to a given cell, so that it remains unchanged no matter where the formula moves. In other words, using $ in cell references allows you to copy the formula in Excel without changing references."
   ]
  },
  {
   "cell_type": "markdown",
   "id": "fd86996f",
   "metadata": {},
   "source": [
    "### 2. How to Change the Reference from Relative to Absolute (or Mixed)?"
   ]
  },
  {
   "cell_type": "markdown",
   "id": "ef9abff0",
   "metadata": {},
   "source": [
    "#### Ans:\n",
    "* To change the reference from relative to absolute, you need to add the dollar sign before the column notation and the row number.\n",
    "\n",
    "* For example, A1 is a relative cell reference, and it would become absolute when you make it $A$1.\n",
    "\n",
    "* If you only have a couple of references to change, you may find it easy to change these references manually. So you can go to the formula bar and edit the formula (or select the cell, press F2, and then change it)."
   ]
  },
  {
   "cell_type": "markdown",
   "id": "208005e8",
   "metadata": {},
   "source": [
    "### 3. Explain the order of operations in excel?"
   ]
  },
  {
   "cell_type": "markdown",
   "id": "e42ed8e1",
   "metadata": {},
   "source": [
    "#### Ans:\n",
    "    In general, Excel's order of operation follows the acronym PEMDAS (Parentheses, Exponents, Multiplication, Division, Addition, Subtraction) but with some customization to handle the formula syntax in a spreadsheet. \n",
    "    Excel solves formulas in the following order:\n",
    "* Parentheses Reference operators\n",
    "1. Exponents\n",
    "2. Negation\n",
    "3. Percent\n",
    "4. Multiplication and Division\n",
    "5. Addition and Subtraction\n",
    "6. Concatenation\n",
    "7. Logical operators\n",
    "\n",
    "Note: If a formula contains multiple operators with the same priority (e.g. multiplication and division, or addition and subtraction), Excel will evaluate the operators from left to right."
   ]
  },
  {
   "cell_type": "markdown",
   "id": "979c28e2",
   "metadata": {},
   "source": [
    "### 4. What, according to you, are the top 5 functions in excel and write a basic syntax for any of two?"
   ]
  },
  {
   "cell_type": "markdown",
   "id": "75292304",
   "metadata": {},
   "source": [
    "#### Ans: \n",
    " - 5 important Excel functions\n",
    "  1. The SUM Function ->Syntax: =SUM(number1, number2,...)\n",
    "  2. The TEXT Function ->Syntax: =TEXT(value, format_text)\n",
    "  3. The VLOOKUP Function\n",
    "  4. The AVERAGE Function\n",
    "  5. The CONCATENATE Function"
   ]
  },
  {
   "cell_type": "markdown",
   "id": "7f088efb",
   "metadata": {},
   "source": [
    "### 5. When would you use the subtotal function?"
   ]
  },
  {
   "cell_type": "markdown",
   "id": "fa770cd9",
   "metadata": {},
   "source": [
    "#### Ans:\n",
    "    The SUBTOTAL Function in Excel allows users to create groups and then perform various other Excel functions such as SUM, COUNT, AVERAGE, PRODUCT, MAX, etc. Thus, the SUBTOTAL function in Excel helps in analyzing the data provided.\n",
    "    SUBTOTAL = (method, range1, [range2 …range_n])"
   ]
  },
  {
   "cell_type": "markdown",
   "id": "20bef5cd",
   "metadata": {},
   "source": [
    "### 6. What is the syntax of the vlookup function? Explain the terms in it?"
   ]
  },
  {
   "cell_type": "markdown",
   "id": "8f09a69c",
   "metadata": {},
   "source": [
    "#### Ans:\n",
    "    VLOOKUP function says: =VLOOKUP(What you want to look up, where you want to look for it, the column number in the range containing the value to return, return an Approximate or Exact match – indicated as 1/TRUE, or 0/FALSE)."
   ]
  }
 ],
 "metadata": {
  "kernelspec": {
   "display_name": "Python 3 (ipykernel)",
   "language": "python",
   "name": "python3"
  },
  "language_info": {
   "codemirror_mode": {
    "name": "ipython",
    "version": 3
   },
   "file_extension": ".py",
   "mimetype": "text/x-python",
   "name": "python",
   "nbconvert_exporter": "python",
   "pygments_lexer": "ipython3",
   "version": "3.9.7"
  }
 },
 "nbformat": 4,
 "nbformat_minor": 5
}
