{
 "cells": [
  {
   "cell_type": "markdown",
   "id": "df09dd2e",
   "metadata": {},
   "source": [
    "### 1. How many types of conditions are available in conditional formatting on Excel?"
   ]
  },
  {
   "cell_type": "markdown",
   "id": "447bebff",
   "metadata": {},
   "source": [
    "#### Ans:\n",
    "* Background Shading\n",
    "* Foreground Shading\n",
    "* Databars\n",
    "* Icons\n",
    "* Values\n"
   ]
  },
  {
   "cell_type": "markdown",
   "id": "03abe733",
   "metadata": {},
   "source": [
    "### 2. How to insert border in Excel with Format Cells dialog?"
   ]
  },
  {
   "cell_type": "markdown",
   "id": "fb5116c3",
   "metadata": {},
   "source": [
    "#### Ans:\n",
    "\n",
    "The Format Cells dialog is the most effective method of adding borders in Excel. It gives you easy access to all the settings including the line color and thickness as well as a nice diagram preview.\n",
    "\n",
    "To insert a border via the Format Cells dialog :\n",
    "\n",
    "1. Select one or more cells to which you'd like to add borders.\n",
    "2. Open the Format Cells dialog box by doing one of the following:\n",
    "    * Click the down arrow next to the Borders button, and then click More Borders at the bottom of the drop-down list.\n",
    "    * Right click the selected cells and choose Format Cell from the context menu.\n",
    "    * Press **Ctrl+1** shortcut.\n",
    "3. In the Format Cells dialog box, switch to the Border tab and choose the line style and color first. And then, either use Presets to add the outside or inside borders or construct the desired border by selecting individual elements such as border top, bottom, right or left. The preview diagram will reflect the changes immediately.\n",
    "4. When done, click OK.\n"
   ]
  },
  {
   "cell_type": "markdown",
   "id": "d39c4d5d",
   "metadata": {},
   "source": [
    "### 3. How to Format Numbers as Currency in Excel?"
   ]
  },
  {
   "cell_type": "markdown",
   "id": "adb80a39",
   "metadata": {},
   "source": [
    "#### Ans:\n",
    "1. Select the cells that you want to format and then, in the Number group on the Home tab, click the down arrow in the Number Format box.\n",
    "\n",
    "2. Choose either Currency or Accounting."
   ]
  },
  {
   "cell_type": "markdown",
   "id": "3bf844dd",
   "metadata": {},
   "source": [
    "### 4. What are the steps to format numbers in Excel with the Percent style?"
   ]
  },
  {
   "cell_type": "markdown",
   "id": "f6b31452",
   "metadata": {},
   "source": [
    "#### Ans:\n",
    "    To apply the percentage number format to a number, first select the number(s), then use any of these methods:\n",
    "1. Use the keyboard shortcut **Control + Shift + Enter**\n",
    "2. Select \"Percentage\" from the dropdown on the home tab of the ribbon\n",
    "3. Click the % button in the Number section on the home tab of the ribbon\n",
    "4. Control + 1 > Number > Percentage"
   ]
  },
  {
   "cell_type": "markdown",
   "id": "638275e3",
   "metadata": {},
   "source": [
    "### 5. What is a shortcut to merge two or more cells in excel?"
   ]
  },
  {
   "cell_type": "markdown",
   "id": "6fe21737",
   "metadata": {},
   "source": [
    "#### Ans:\n",
    "1. Merge Cells  – **ALT H+M+M**\n",
    "2. Merge & Center - **ALT H+M+C**\n",
    "3. Merge Across  – **ALT H+M+A**"
   ]
  },
  {
   "cell_type": "markdown",
   "id": "09a41808",
   "metadata": {},
   "source": [
    "### 6. How do you use text commands in Excel?"
   ]
  },
  {
   "cell_type": "markdown",
   "id": "2762c873",
   "metadata": {},
   "source": [
    "#### Ans:\n",
    "    We use the TEXT function in the following circumstances:\n",
    "\n",
    "1. When we want to display dates in a specified format\n",
    "2. When we wish to display numbers in a specified format or in a more legible way\n",
    "3. When we wish to combine numbers with text or characters"
   ]
  }
 ],
 "metadata": {
  "kernelspec": {
   "display_name": "Python 3 (ipykernel)",
   "language": "python",
   "name": "python3"
  },
  "language_info": {
   "codemirror_mode": {
    "name": "ipython",
    "version": 3
   },
   "file_extension": ".py",
   "mimetype": "text/x-python",
   "name": "python",
   "nbconvert_exporter": "python",
   "pygments_lexer": "ipython3",
   "version": "3.9.7"
  }
 },
 "nbformat": 4,
 "nbformat_minor": 5
}
