{
 "cells": [
  {
   "cell_type": "markdown",
   "id": "b1fb5c85",
   "metadata": {},
   "source": [
    "### 1. To use the ribbon commands, what menu and grouping of commands will you find the Insert and Delete command?"
   ]
  },
  {
   "cell_type": "markdown",
   "id": "40699158",
   "metadata": {},
   "source": [
    "#### Ans:\n",
    " Home: This is the most popular bar and displayed by default when excel is opened. This tab contains the basic Clipboard commands, formatting commands, style commands, commands to insert and delete rows or columns, plus an assortment of worksheet editing commands."
   ]
  },
  {
   "cell_type": "markdown",
   "id": "0b166c56",
   "metadata": {},
   "source": [
    "### 2. If you set a row height or column width to 0 (zero), what happens to the row and column?"
   ]
  },
  {
   "cell_type": "markdown",
   "id": "c34ab354",
   "metadata": {},
   "source": [
    "#### Ans:\n",
    " You can set the column width from 0 to 255. If you set the height or column width to 0 (zero), Excel hides the column.\n",
    " "
   ]
  },
  {
   "cell_type": "markdown",
   "id": "4f382679",
   "metadata": {},
   "source": [
    "### 3. Is there a need to change the height and width in a cell? Why?"
   ]
  },
  {
   "cell_type": "markdown",
   "id": "922337db",
   "metadata": {},
   "source": [
    "#### Ans:\n",
    "It is necessary to change width and height in excel to fit the data.\n",
    "\n",
    "Excel by default provide equal width and height with respect to columns and rows. Whenever we enter a lengthy data, few characters will get displayed and other will be present inside the  cell but will be hidden to the user. It is necessary to change the rows and column’s height and width to have a good presentation in excel."
   ]
  },
  {
   "cell_type": "markdown",
   "id": "1e91cb4c",
   "metadata": {},
   "source": [
    "### 4. What is the keyboard shortcut to unhide rows?"
   ]
  },
  {
   "cell_type": "markdown",
   "id": "6867196c",
   "metadata": {},
   "source": [
    "#### Ans:\n",
    " Excel Unhide Rows shortcut: **Ctrl + Shift + 9**"
   ]
  },
  {
   "cell_type": "markdown",
   "id": "58d41118",
   "metadata": {},
   "source": [
    "### 5. How to hide rows containing blank cells?"
   ]
  },
  {
   "cell_type": "markdown",
   "id": "1c3e2e47",
   "metadata": {},
   "source": [
    "#### Ans:\n",
    "* To hide rows that contain any blank cells, proceed with these steps:\n",
    "\n",
    "1. Select the range that contains empty cells you want to hide.\n",
    "2. On the Home tab, in the Editing group, click Find & Select > Go To Special.\n",
    "3. In the Go To Special dialog box, select the Blanks radio button, and click OK. This will select all empty cells in the range.\n",
    "4. Press Ctrl + 9 to hide the corresponding rows.\n",
    "\n",
    "This method works well when you want to hide all rows that contain at least one blank cell"
   ]
  },
  {
   "cell_type": "markdown",
   "id": "5e6556a7",
   "metadata": {},
   "source": [
    "### 6. What are the steps to hide the duplicate values using conditional formatting in excel?"
   ]
  },
  {
   "cell_type": "markdown",
   "id": "33563b29",
   "metadata": {},
   "source": [
    "#### Ans:\n",
    "To filter the range to show only the unique values, select the range of cells, then click on the \"Data\" tab in the ribbon and select \"Advanced\" in the \"Sort & Filter\" group. In the \"Advanced Filter\" dialog box, choose \"Copy to another location\", select a cell where you want to copy the unique values, check the \"Unique records only\" box, and click \"OK\". This will copy only the unique values from the selected range to the specified cell, and you can then hide the original range containing the duplicate values."
   ]
  }
 ],
 "metadata": {
  "kernelspec": {
   "display_name": "Python 3 (ipykernel)",
   "language": "python",
   "name": "python3"
  },
  "language_info": {
   "codemirror_mode": {
    "name": "ipython",
    "version": 3
   },
   "file_extension": ".py",
   "mimetype": "text/x-python",
   "name": "python",
   "nbconvert_exporter": "python",
   "pygments_lexer": "ipython3",
   "version": "3.9.7"
  }
 },
 "nbformat": 4,
 "nbformat_minor": 5
}
