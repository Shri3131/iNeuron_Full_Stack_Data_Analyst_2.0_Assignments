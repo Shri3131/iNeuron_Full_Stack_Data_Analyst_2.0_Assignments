{
 "cells": [
  {
   "cell_type": "markdown",
   "id": "8445214d",
   "metadata": {},
   "source": [
    "### 1. How and when to use the AutoSum command in excel?"
   ]
  },
  {
   "cell_type": "markdown",
   "id": "63cd606c",
   "metadata": {},
   "source": [
    "#### Ans:\n",
    "    Whenever you need to sum a single range of cells, whether a column, row or several adjacent columns or rows, you can have Excel AutoSum to automatically make an appropriate SUM formula for you.\n",
    "1. Select a cell next to the numbers you want to sum:\n",
    " * To sum a column, select the cell immediately below the last value in the column.\n",
    " * To sum a row, select the cell to the right of the last number in the row.\n",
    "2. Click the AutoSum button on either the Home or Formulas tab.\n",
    "3. Press the Enter key to complete the formula.\n"
   ]
  },
  {
   "cell_type": "markdown",
   "id": "60d43f98",
   "metadata": {},
   "source": [
    "### 2. What is the shortcut key to perform AutoSum?"
   ]
  },
  {
   "cell_type": "markdown",
   "id": "505470f2",
   "metadata": {},
   "source": [
    "#### Ans:\n",
    "You can use the following Excel AutoSum keyboard shortcut to total cells:\n",
    "Pressing the **Equal** Sign key while holding the **Alt** key inserts a Sum formula in a selected cells(s) exactly like pressing the AutoSum button on the ribbon does, and then you hit the **Enter** key to complete the formula."
   ]
  },
  {
   "cell_type": "markdown",
   "id": "9212659d",
   "metadata": {},
   "source": [
    "### 3. How do you get rid of Formula that omits adjacent cells?"
   ]
  },
  {
   "attachments": {},
   "cell_type": "markdown",
   "id": "1f3014b5",
   "metadata": {},
   "source": [
    "#### Ans:\n",
    "    The error formula omits adjacent cells means that there is an error in the formula in the cell. When you have an array of formulas, Excel assumes that the data for all are continuous and not separated by other data.\n",
    "    Check off the following first before you proceed:\n",
    "\n",
    " First, check to make sure that your formula includes all of the necessary parts. If you are working with a small data set, try to identify any empty cells and delete them.\n",
    "1. Uncheck formulas that omit cells\n",
    "    - Launch your Excel sheet and then click on File.\n",
    "    - Navigate to Options and then select Formulas.\n",
    "    - Look for Error checking rules and uncheck Formulas which omit cells in a region.\n",
    "    - Click OK.\n",
    "2. Switch from absolute to relative reference\n",
    "    - Open the Excel sheet and select the cell that contains the formula.\n",
    "    - Navigate to the formula bar at the top and press F4 until you get the relative reference option.\n",
    "3. Update the formula to include the cells"
   ]
  },
  {
   "cell_type": "markdown",
   "id": "9bee7cbd",
   "metadata": {},
   "source": [
    "### 4. How do you select non-adjacent cells in Excel 2016?"
   ]
  },
  {
   "cell_type": "markdown",
   "id": "ecdc7f1f",
   "metadata": {},
   "source": [
    "#### Ans:\n",
    "    Select one or more cells\n",
    "* Click on a cell to select it. Or use the keyboard to navigate to it and select it.\n",
    "\n",
    "* To select a range, select a cell, then with the left mouse button pressed, drag over the other cells.\n",
    "\n",
    "* Or use the Shift + arrow keys to select the range.\n",
    "\n",
    "* To select non-adjacent cells and cell ranges, hold Ctrl and select the cells."
   ]
  },
  {
   "cell_type": "markdown",
   "id": "7c18c83d",
   "metadata": {},
   "source": [
    "### 5. What happens if you choose a column, hold down the Alt key and press the letters ocw in quick succession?"
   ]
  },
  {
   "cell_type": "markdown",
   "id": "fc74bbc7",
   "metadata": {},
   "source": [
    "#### Ans: The column width dialogue box opens allowing you to set the exact width of the column."
   ]
  },
  {
   "cell_type": "markdown",
   "id": "6408930c",
   "metadata": {},
   "source": [
    "### 6. If you right-click on a row reference number and click on Insert, where will the row be added?"
   ]
  },
  {
   "cell_type": "markdown",
   "id": "3249f08e",
   "metadata": {},
   "source": [
    "##### Ans: A new row is inserted above the cell(s) you originally selected."
   ]
  }
 ],
 "metadata": {
  "kernelspec": {
   "display_name": "Python 3 (ipykernel)",
   "language": "python",
   "name": "python3"
  },
  "language_info": {
   "codemirror_mode": {
    "name": "ipython",
    "version": 3
   },
   "file_extension": ".py",
   "mimetype": "text/x-python",
   "name": "python",
   "nbconvert_exporter": "python",
   "pygments_lexer": "ipython3",
   "version": "3.9.7"
  }
 },
 "nbformat": 4,
 "nbformat_minor": 5
}
