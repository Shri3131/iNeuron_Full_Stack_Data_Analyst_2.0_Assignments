{
 "cells": [
  {
   "cell_type": "markdown",
   "id": "03cb4fbc",
   "metadata": {},
   "source": [
    "### 1. What do you mean by cells in an excel sheet?"
   ]
  },
  {
   "cell_type": "markdown",
   "id": "a6f3a1c4",
   "metadata": {},
   "source": [
    "#### Ans:\n",
    "    A cell is the intersection of a row and a column. A cell is identified\n",
    "    by an address that consists of the column name followed by the row\n",
    "    number. For example, the first cell is referred to as A1, which indicates\n",
    "    that it lies at the intersection of the column A and row 1. This is the\n",
    "    active cell."
   ]
  },
  {
   "cell_type": "markdown",
   "id": "705df742",
   "metadata": {},
   "source": [
    "### 2. How can you restrict someone from copying a cell from your worksheet?"
   ]
  },
  {
   "cell_type": "markdown",
   "id": "4ef1cde7",
   "metadata": {},
   "source": [
    "#### Ans:\n",
    "\n",
    "By protecting a worksheet, all the cells on the worksheet are locked, and users cannot make any changes to a locked cell.\n",
    "\n",
    "To set a password to protect cells, follow the steps given below:\n",
    "\n",
    "1) Go to REVIEW tab and click on \"Protect Sheet\" option.\n",
    "\n",
    "2) Excel opens the Protect Sheet dialog box. By default, Excel selects the Protect Worksheet and Contents of Locked Cells check box.\n",
    "\n",
    "3) Select any of the check boxes in the Allow All Users of This Worksheet To list box (such as Format Cells or Insert Columns) that you still want to be functional when the worksheet protection is operational.\n",
    "The Select Locked Cells and Select Unlocked Cells check boxes are selected by default.\n",
    "\n",
    "4) Type the password in the 'Password to unprotect Sheet' text box.\n",
    "\n",
    "5) Click OK.\n",
    "\n",
    "6) Excel opens the Confirm Password dialog box. Re-enter the password in the Reenter Password to Proceed text box and then click OK. Notice that if you try to edit a cell, Excel displays an error message.\n",
    "\n",
    "-- To remove worksheet protection, click the Unprotect Sheet button in the Changes group on the Review tab. You’ll be prompted to type the password that you had set for protection."
   ]
  },
  {
   "cell_type": "markdown",
   "id": "3a4b1af6",
   "metadata": {},
   "source": [
    "### 3. How to move or copy the worksheet into another workbook?"
   ]
  },
  {
   "cell_type": "markdown",
   "id": "c1609526",
   "metadata": {},
   "source": [
    "#### Ans: \n",
    "    You can use the Move or Copy Sheet command to move or copy entire worksheets, to other locations in the same or a different workbook. You can use the Cut and Copy commands to move or copy a portion of the data to other worksheets or workbooks.\n",
    "   \n",
    "   Copy a worksheet in the same workbook\n",
    "   * Press CTRL and drag the worksheet tab to the tab location you want.\n",
    "        \n",
    "       OR\n",
    "\n",
    "  * Right click on the worksheet tab and select Move or Copy.\n",
    "\n",
    "  * Select the Create a copy checkbox.\n",
    "\n",
    "  * Under Before sheet, select where you want to place the copy.\n",
    "\n",
    "  * Select OK."
   ]
  },
  {
   "cell_type": "markdown",
   "id": "7ae2eba3",
   "metadata": {},
   "source": [
    "### 4. Which key is used as a shortcut for opening a new window document?"
   ]
  },
  {
   "cell_type": "markdown",
   "id": "9ea9d46e",
   "metadata": {},
   "source": [
    "#### Ans: \n",
    "    It would be Control key + N in most of cases for Windows Applications like Office or Notepad or any general editor. This also creates a new file within a folder where as Ctrl + Shift + N for new folder.\n"
   ]
  },
  {
   "cell_type": "markdown",
   "id": "7fc3380b",
   "metadata": {},
   "source": [
    "### 5. What are the things that we can notice after opening the Excel interface?"
   ]
  },
  {
   "cell_type": "markdown",
   "id": "28b49d92",
   "metadata": {},
   "source": [
    "#### Ans:\n",
    "\n",
    "#### * Home\n",
    "     Comprises options like font size, font styles, font colour, background colour, alignment, formatting options and styles, insertion and deletion of cells and editing options\n",
    "#### * Insert\n",
    "    Comprises options like table format and style, inserting images and figures, adding graphs, charts and sparklines, header and footer option, equation and symbols\n",
    "#### * Page Layout\n",
    "    Themes, orientation and page setup options are available under the page layout option\n",
    "#### * Formulas\n",
    "    Since tables with a large amount of data can be created in MS excel, under this feature, you can add formulas to your table and get quicker solutions \n",
    "#### * Data\n",
    "    Adding external data (from the web), filtering options and data tools are available under this category\n",
    "#### * Review\n",
    "    Proofreading can be done for an excel sheet (like spell check) in the review category and a reader can add comments in this part \n",
    "#### * View\n",
    "    Different views in which we want the spreadsheet to be displayed can be edited here. Options to zoom in and out and pane arrangement are available under this category"
   ]
  },
  {
   "cell_type": "markdown",
   "id": "82d8360b",
   "metadata": {},
   "source": [
    "### 6. When to use a relative cell reference in excel?"
   ]
  },
  {
   "cell_type": "markdown",
   "id": "2b7fbc67",
   "metadata": {},
   "source": [
    "#### Ans:\n",
    "    Relative reference is a type of cell reference in Excel. This reference changes when the formula is copied to any other cell or any other worksheet. Relative cell references are used whenever calculations need to be repeated."
   ]
  }
 ],
 "metadata": {
  "kernelspec": {
   "display_name": "Python 3 (ipykernel)",
   "language": "python",
   "name": "python3"
  },
  "language_info": {
   "codemirror_mode": {
    "name": "ipython",
    "version": 3
   },
   "file_extension": ".py",
   "mimetype": "text/x-python",
   "name": "python",
   "nbconvert_exporter": "python",
   "pygments_lexer": "ipython3",
   "version": "3.9.7"
  }
 },
 "nbformat": 4,
 "nbformat_minor": 5
}
