{
 "cells": [
  {
   "cell_type": "markdown",
   "id": "4ddb799e",
   "metadata": {},
   "source": [
    "### 1. What advantages do Excel spreadsheets have over CSV spreadsheets?"
   ]
  },
  {
   "cell_type": "markdown",
   "id": "83a801f9",
   "metadata": {},
   "source": [
    "#### Ans:\n",
    "\n",
    "|Excel                            | CSV                                                                  |\n",
    "| :- | -: | \n",
    "|Excel files can only be read by applications and not on any other systems, application or data platform.|\tCSV file does not need any specific platform to open; it can also be opened in a simple text editor, and the user can simply read and understand it.|\n",
    "| :- | -: | \n",
    "|Excel consumes more memory than CSV.\t|CSV consumes less memory than Excel.|\n",
    "| :- | -: | \n",
    "|Excel is generally larger, slower and more complicated when compared to CSV.\t|CSV is generally faster and less complicated when compared to Excel.|\n",
    "| :- | -: | \n",
    "|Text editors cannot edit files saved in Excel format, and also, Excel file can be password protected.\t|Files saved in CSV format can be edited by text editors, and also CSV file cannot be password protected.|\n",
    "| :- | -: | \n",
    "|Excel can perform VBA Coding, functions, formulas and create summaries easily when compared to CSV.\t|CSV cannot perform VBA Coding, functions, formulas and create summaries easily when compared to Excel.|\n",
    "| :- | -: | \n",
    "|Reading large data set is much easier for the end-user to read, comprehend and understand when compared to CSV.|\tReading large data set is much complicated for the end-user to read, comprehend and understand when compared to Excel.|\n",
    "| :- | -: | \n",
    "|Excel can be opened with Microsoft office only and does not support any other platform when compared to CSV.|\tCSV format is compatible and can be used on several platforms like notepad, access, etc. when compared to Excel.|\n",
    "| :- | -: | \n",
    "|Excel also provides the user option for external linking of data from other sources, and also, the user can do custom add-ins.|\tNo such feature is available in CSV format when it is compared with Excel.|"
   ]
  },
  {
   "cell_type": "markdown",
   "id": "8dcf2191",
   "metadata": {},
   "source": [
    "#### Conclusion\n",
    "Both Excel vs CSV have their limitations and advantages and can work in tandem with each other. In a way, they complement each other, and their workings are quite different from each other. Most people would find that Excel is quite sufficient for the majority of spreadsheet needs. There is really no need to use CSV unless you have some specialized application that is irreplaceable and does not recognize the data in an Excel file."
   ]
  },
  {
   "cell_type": "markdown",
   "id": "e1b687a6",
   "metadata": {},
   "source": [
    "### 2.What do you pass to csv.reader() and csv.writer() to create reader and writer objects?"
   ]
  },
  {
   "cell_type": "markdown",
   "id": "9cff2c29",
   "metadata": {},
   "source": [
    "#### Ans:\n",
    "we pass a File object, obtained from a call to open()."
   ]
  },
  {
   "cell_type": "markdown",
   "id": "08111d67",
   "metadata": {},
   "source": [
    "### 3. What modes do File objects for reader and writer objects need to be opened in?"
   ]
  },
  {
   "cell_type": "markdown",
   "id": "65cb9fe1",
   "metadata": {},
   "source": [
    "#### Ans:\n",
    "File objects need to be opened in read-binary ('rb') for Reader objects and write-binary ('wb') for Writer objects"
   ]
  },
  {
   "cell_type": "markdown",
   "id": "ff48a0db",
   "metadata": {},
   "source": [
    "### 4. What method takes a list argument and writes it to a CSV file?"
   ]
  },
  {
   "cell_type": "markdown",
   "id": "9b0226c3",
   "metadata": {},
   "source": [
    "#### Ans:\n",
    "The writerow() method"
   ]
  },
  {
   "cell_type": "markdown",
   "id": "3ac88521",
   "metadata": {},
   "source": [
    "### 5. What do the keyword arguments delimiter and line terminator do?"
   ]
  },
  {
   "cell_type": "markdown",
   "id": "955b3c40",
   "metadata": {},
   "source": [
    "#### Ans:\n",
    "    The delimiter argument changes the string used to separate cells in a row. \n",
    "    The lineterminator argument changes the string used to separate rows."
   ]
  },
  {
   "cell_type": "markdown",
   "id": "76eaacb1",
   "metadata": {},
   "source": [
    "### 6. What function takes a string of JSON data and returns a Python data structure?"
   ]
  },
  {
   "cell_type": "markdown",
   "id": "ebe8702f",
   "metadata": {},
   "source": [
    "#### Ans:\n",
    "json.loads()\n"
   ]
  },
  {
   "cell_type": "markdown",
   "id": "51b45437",
   "metadata": {},
   "source": [
    "### 7. What function takes a Python data structure and returns a string of JSON data?"
   ]
  },
  {
   "cell_type": "markdown",
   "id": "49cf1084",
   "metadata": {},
   "source": [
    "#### Ans:\n",
    "    json.dumps()"
   ]
  }
 ],
 "metadata": {
  "kernelspec": {
   "display_name": "Python 3 (ipykernel)",
   "language": "python",
   "name": "python3"
  },
  "language_info": {
   "codemirror_mode": {
    "name": "ipython",
    "version": 3
   },
   "file_extension": ".py",
   "mimetype": "text/x-python",
   "name": "python",
   "nbconvert_exporter": "python",
   "pygments_lexer": "ipython3",
   "version": "3.9.7"
  }
 },
 "nbformat": 4,
 "nbformat_minor": 5
}
