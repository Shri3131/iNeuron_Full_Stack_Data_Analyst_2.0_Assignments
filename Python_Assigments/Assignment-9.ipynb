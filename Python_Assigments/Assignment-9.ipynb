{
 "cells": [
  {
   "cell_type": "markdown",
   "id": "5915c667",
   "metadata": {},
   "source": [
    "### 1. To what does a relative path refer?"
   ]
  },
  {
   "cell_type": "markdown",
   "id": "5a964d73",
   "metadata": {},
   "source": [
    "#### Ans:\n",
    "The relative path is the path of a file with respect to your current working directory."
   ]
  },
  {
   "cell_type": "markdown",
   "id": "cac6b4a2",
   "metadata": {},
   "source": [
    "### 2. What does an absolute path start with your operating system?"
   ]
  },
  {
   "cell_type": "markdown",
   "id": "b8eab9bb",
   "metadata": {},
   "source": [
    "#### Ans:\n",
    "An absolute path is defined as the specifying the location of a file or directory from the root directory(/). In other words we can say absolute path is a complete path from start of actual filesystem from / directory."
   ]
  },
  {
   "cell_type": "markdown",
   "id": "f8a39c4d",
   "metadata": {},
   "source": [
    "### 3. What do the functions os.getcwd() and os.chdir() do?"
   ]
  },
  {
   "cell_type": "markdown",
   "id": "94828511",
   "metadata": {},
   "source": [
    "#### Ans:\n",
    "    getcwd() : CWD stands for Current Working Directory. This function allows you to see what your current working directory is.\n",
    "    \n",
    "    chdir(\"path-to-dir\") : Short for CHange DIRectory, this function allows you to set the current working directory to a path  of your choice.\n"
   ]
  },
  {
   "cell_type": "markdown",
   "id": "7f007165",
   "metadata": {},
   "source": [
    "### 4. What are the . and .. folders?"
   ]
  },
  {
   "cell_type": "markdown",
   "id": "a44c95fe",
   "metadata": {},
   "source": [
    "#### Ans:\n",
    "The . is the current directory, while .. signifies the parent directory."
   ]
  },
  {
   "cell_type": "markdown",
   "id": "5bb21dda",
   "metadata": {},
   "source": [
    "### 5. In C:\\bacon\\eggs\\spam.txt, which part is the dir name, and which part is the base name?"
   ]
  },
  {
   "cell_type": "markdown",
   "id": "ecb025c8",
   "metadata": {},
   "source": [
    "#### Ans:\n",
    "C:\\bacon\\eggs is the dir name, while spam.txt is the base name."
   ]
  },
  {
   "cell_type": "markdown",
   "id": "56673066",
   "metadata": {},
   "source": [
    "### 6. What are the three “mode” arguments that can be passed to the open() function?"
   ]
  },
  {
   "cell_type": "markdown",
   "id": "5b114859",
   "metadata": {},
   "source": [
    "#### Ans: \n",
    "The string 'r' for read mode, 'w' for write mode, and 'a' for append mode"
   ]
  },
  {
   "cell_type": "markdown",
   "id": "e3844f85",
   "metadata": {},
   "source": [
    "### 7. What happens if an existing file is opened in write mode?"
   ]
  },
  {
   "cell_type": "markdown",
   "id": "13ced7ad",
   "metadata": {},
   "source": [
    "#### Ans:\n",
    "An existing file opened in write mode is erased and completely overwritten."
   ]
  },
  {
   "cell_type": "markdown",
   "id": "d6b61e98",
   "metadata": {},
   "source": [
    "### 8. How do you tell the difference between read() and readlines()?"
   ]
  },
  {
   "cell_type": "markdown",
   "id": "741c66ce",
   "metadata": {},
   "source": [
    "#### Ans: \n",
    "read() reads the entire contents of the file into a string. readline() just reads file till the next line."
   ]
  },
  {
   "cell_type": "markdown",
   "id": "15ffec6d",
   "metadata": {},
   "source": [
    "### 9. What data structure does a shelf value resemble?"
   ]
  },
  {
   "cell_type": "markdown",
   "id": "ad88c1c8",
   "metadata": {},
   "source": [
    "#### Ans:\n",
    "A shelf value resembles a dictionary value; it has keys and values, along with keys() and values() methods that work similarly to the dictionary methods of the same names."
   ]
  }
 ],
 "metadata": {
  "kernelspec": {
   "display_name": "Python 3 (ipykernel)",
   "language": "python",
   "name": "python3"
  },
  "language_info": {
   "codemirror_mode": {
    "name": "ipython",
    "version": 3
   },
   "file_extension": ".py",
   "mimetype": "text/x-python",
   "name": "python",
   "nbconvert_exporter": "python",
   "pygments_lexer": "ipython3",
   "version": "3.9.7"
  }
 },
 "nbformat": 4,
 "nbformat_minor": 5
}
