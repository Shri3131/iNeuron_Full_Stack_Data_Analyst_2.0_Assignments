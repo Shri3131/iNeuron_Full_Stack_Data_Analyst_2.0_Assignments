{
 "cells": [
  {
   "cell_type": "markdown",
   "id": "cd760f38",
   "metadata": {},
   "source": [
    "### 1. What does RGBA stand for?"
   ]
  },
  {
   "cell_type": "markdown",
   "id": "d1f41368",
   "metadata": {},
   "source": [
    "#### Ans: \n",
    "    RGBA(Red-Green-Blue-Alpha)\n",
    "    An RGBA value is a tuple of 4 integers, each ranging from 0 to 255. The four integers correspond \n",
    "    to the amount of red, green, blue, and alpha (transparency) in the color "
   ]
  },
  {
   "cell_type": "markdown",
   "id": "159961b5",
   "metadata": {},
   "source": [
    "### 2. From the Pillow module, how do you get the RGBA value of any images?"
   ]
  },
  {
   "cell_type": "code",
   "execution_count": 2,
   "id": "38c0c347",
   "metadata": {},
   "outputs": [
    {
     "data": {
      "text/plain": [
       "(0, 128, 0, 255)"
      ]
     },
     "execution_count": 2,
     "metadata": {},
     "output_type": "execute_result"
    }
   ],
   "source": [
    "from PIL import ImageColor\n",
    "ImageColor.getcolor('red', 'RGBA')\n",
    "ImageColor.getcolor('green', 'RGBA')"
   ]
  },
  {
   "cell_type": "markdown",
   "id": "dd17b072",
   "metadata": {},
   "source": [
    "### 3. What is a box tuple, and how does it work?"
   ]
  },
  {
   "cell_type": "markdown",
   "id": "2005b6a2",
   "metadata": {},
   "source": [
    "#### Ans:\n",
    "    A box tuple is a tuple value of four integers: the left edge x-coordinate, the top edge y-coordinate, the width, and the height, respectively"
   ]
  },
  {
   "cell_type": "markdown",
   "id": "f22a601a",
   "metadata": {},
   "source": [
    "### 4. Use your image and load in notebook then, How can you find out the width and height of an Image object?"
   ]
  },
  {
   "cell_type": "code",
   "execution_count": 6,
   "id": "43c54604",
   "metadata": {},
   "outputs": [
    {
     "data": {
      "text/plain": [
       "(2158, 1136)"
      ]
     },
     "execution_count": 6,
     "metadata": {},
     "output_type": "execute_result"
    }
   ],
   "source": [
    "from PIL import Image\n",
    "my_Image = Image.open(\"C:\\\\Users\\\\shrid\\\\Downloads\\\\image.jpg\")\n",
    "w,h = my_Image.size\n",
    "w,h"
   ]
  },
  {
   "cell_type": "markdown",
   "id": "66d17e9b",
   "metadata": {},
   "source": [
    "### 5. What method would you call to get Image object for a 100×100 image, excluding the lower-left quarter of it?"
   ]
  },
  {
   "cell_type": "markdown",
   "id": "9e721b75",
   "metadata": {},
   "source": [
    "#### Ans:\n",
    "    ImageObject.crop((0, 50, 50, 50))\n",
    " "
   ]
  },
  {
   "cell_type": "markdown",
   "id": "8a90ca64",
   "metadata": {},
   "source": [
    "### 6. After making changes to an Image object, how could you save it as an image file?"
   ]
  },
  {
   "cell_type": "markdown",
   "id": "868cd7dd",
   "metadata": {},
   "source": [
    "#### Ans:\n",
    "    By Calling the imageObj.save('new_filename.png') method of the Image object."
   ]
  },
  {
   "cell_type": "markdown",
   "id": "9a17f80a",
   "metadata": {},
   "source": [
    "### 7. What module contains Pillow’s shape-drawing code?"
   ]
  },
  {
   "cell_type": "markdown",
   "id": "d87e54df",
   "metadata": {},
   "source": [
    "#### Ans:\n",
    "     The ImageDraw module contains code to draw on images"
   ]
  },
  {
   "cell_type": "markdown",
   "id": "deb29578",
   "metadata": {},
   "source": [
    "### 8. Image objects do not have drawing methods. What kind of object does? How do you get this kind of object?"
   ]
  },
  {
   "cell_type": "markdown",
   "id": "59f92398",
   "metadata": {},
   "source": [
    "#### Ans:\n",
    "ImageDraw objects have shape-drawing methods such as point(), line(), or rectangle(). They are returned by passing the Image object to the ImageDraw.Draw() function"
   ]
  }
 ],
 "metadata": {
  "kernelspec": {
   "display_name": "Python 3 (ipykernel)",
   "language": "python",
   "name": "python3"
  },
  "language_info": {
   "codemirror_mode": {
    "name": "ipython",
    "version": 3
   },
   "file_extension": ".py",
   "mimetype": "text/x-python",
   "name": "python",
   "nbconvert_exporter": "python",
   "pygments_lexer": "ipython3",
   "version": "3.9.7"
  }
 },
 "nbformat": 4,
 "nbformat_minor": 5
}
