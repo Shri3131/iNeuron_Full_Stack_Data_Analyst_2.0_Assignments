{
 "cells": [
  {
   "cell_type": "markdown",
   "id": "b9290cb7",
   "metadata": {},
   "source": [
    "### 1. What is the result of the code, and explain?\n",
    "    X = 'iNeuron'\n",
    "    def func():\n",
    "        print(X)\n",
    "    func()"
   ]
  },
  {
   "cell_type": "markdown",
   "id": "559f9c62",
   "metadata": {},
   "source": [
    "#### Ans:\n",
    "    The global variables are accessible in side the functions in python. But we can not access function variable out side \n",
    "    function. \n",
    "    Since x is golbal variable we are able to print it in side the function"
   ]
  },
  {
   "cell_type": "code",
   "execution_count": 1,
   "id": "cd1e18e5",
   "metadata": {},
   "outputs": [
    {
     "name": "stdout",
     "output_type": "stream",
     "text": [
      "iNeuron\n"
     ]
    }
   ],
   "source": [
    "X = 'iNeuron'\n",
    "def func():\n",
    "    print(X)\n",
    "func()"
   ]
  },
  {
   "cell_type": "markdown",
   "id": "0b52eaca",
   "metadata": {},
   "source": [
    "### 2. What is the result of the code, and explain?\n",
    "    X = 'iNeuron'\n",
    "    def func():\n",
    "        X = 'NI!'\n",
    "\n",
    "    func()\n",
    "    print(X)"
   ]
  },
  {
   "cell_type": "code",
   "execution_count": 2,
   "id": "505914ae",
   "metadata": {},
   "outputs": [
    {
     "name": "stdout",
     "output_type": "stream",
     "text": [
      "iNeuron\n"
     ]
    }
   ],
   "source": [
    "X = 'iNeuron'\n",
    "def func():\n",
    "    X = 'NI!'\n",
    "\n",
    "func()\n",
    "print(X)"
   ]
  },
  {
   "cell_type": "markdown",
   "id": "2a0eb959",
   "metadata": {},
   "source": [
    "    The global variables are accessible in side the functions in python. But we can not access function variable out side \n",
    "    function. \n",
    "    Since x is golbal variable we are able to print it in side the function"
   ]
  },
  {
   "cell_type": "markdown",
   "id": "96eb46b5",
   "metadata": {},
   "source": [
    "### 3. What does this code print, and why?\n",
    "    X = 'iNeuron'\n",
    "    def func():\n",
    "        X = 'NI!'\n",
    "       print(X)\n",
    "\n",
    "    func()\n",
    "    print(X)\n"
   ]
  },
  {
   "cell_type": "code",
   "execution_count": 5,
   "id": "f256a269",
   "metadata": {},
   "outputs": [
    {
     "name": "stdout",
     "output_type": "stream",
     "text": [
      "NI!\n",
      "iNeuron\n"
     ]
    }
   ],
   "source": [
    "X = 'iNeuron'\n",
    "def func():\n",
    "    X = 'NI!'\n",
    "    print(X)\n",
    "\n",
    "func()\n",
    "print(X)"
   ]
  },
  {
   "cell_type": "markdown",
   "id": "5b6aea45",
   "metadata": {},
   "source": [
    "    The global variables are access in side the functions in python. But we can not access function variable out side \n",
    "    function. X is updated with 'NI' which is local to function and its immutable. its name space is with in the function\n",
    "    solution = 'NI!', 'iNeuron'"
   ]
  },
  {
   "cell_type": "markdown",
   "id": "2600328e",
   "metadata": {},
   "source": [
    "### 4. What output does this code produce? Why?\n",
    "    X = 'iNeuron'\n",
    "    def func():\n",
    "       global X\n",
    "    X = 'NI!'\n",
    "    print(X)\n",
    "\n",
    "    func()\n",
    "    print(X)"
   ]
  },
  {
   "cell_type": "code",
   "execution_count": 6,
   "id": "0db7a6e8",
   "metadata": {},
   "outputs": [
    {
     "name": "stdout",
     "output_type": "stream",
     "text": [
      "NI!\n",
      "NI!\n"
     ]
    }
   ],
   "source": [
    "X = 'iNeuron'\n",
    "def func():\n",
    "    global X\n",
    "    X = 'NI!'\n",
    "    print(X)\n",
    "\n",
    "func()\n",
    "print(X)"
   ]
  },
  {
   "cell_type": "markdown",
   "id": "c4c7bb43",
   "metadata": {},
   "source": [
    "    since the X in side function is made Global, it will be accesible out side of the function too. now X will have new value."
   ]
  },
  {
   "cell_type": "markdown",
   "id": "d5387d61",
   "metadata": {},
   "source": [
    "### 5. What about this code—what’s the output, and why?\n",
    "    X = 'iNeuron'\n",
    "    def func():\n",
    "        X = 'NI'\n",
    "    def nested():\n",
    "        print(X)\n",
    "\n",
    "    nested()\n",
    "    func()\n",
    "    X"
   ]
  },
  {
   "cell_type": "code",
   "execution_count": 7,
   "id": "6c2e7c5f",
   "metadata": {},
   "outputs": [
    {
     "name": "stdout",
     "output_type": "stream",
     "text": [
      "iNeuron\n"
     ]
    },
    {
     "data": {
      "text/plain": [
       "'iNeuron'"
      ]
     },
     "execution_count": 7,
     "metadata": {},
     "output_type": "execute_result"
    }
   ],
   "source": [
    "X = 'iNeuron'\n",
    "def func():\n",
    "    X = 'NI'\n",
    "def nested():\n",
    "    print(X)\n",
    "\n",
    "nested()\n",
    "func()\n",
    "X\n"
   ]
  },
  {
   "cell_type": "markdown",
   "id": "fe0c7db6",
   "metadata": {},
   "source": [
    "    The nested() function will print 'iNeuron', Then func() does not display anything, and x ='NI' is not accessible out \n",
    "    side the function."
   ]
  },
  {
   "cell_type": "markdown",
   "id": "b1bb9748",
   "metadata": {},
   "source": [
    "### 6. How about this code: what is its output in Python 3, and explain?\n",
    "     X = 'kkl'\n",
    "    def func():\n",
    "        X = 'NI'\n",
    "        def nested():\n",
    "            nonlocal X\n",
    "            X = 'spam'\n",
    "        nested()\n",
    "        print(X)\n",
    "\n",
    "    func()\n",
    "    Nonlocal"
   ]
  },
  {
   "cell_type": "code",
   "execution_count": 8,
   "id": "139659d2",
   "metadata": {},
   "outputs": [
    {
     "name": "stdout",
     "output_type": "stream",
     "text": [
      "spam\n"
     ]
    }
   ],
   "source": [
    "def func():\n",
    "    X = 'NI'\n",
    "    def nested():\n",
    "        nonlocal X\n",
    "        X = 'spam'\n",
    "    nested()\n",
    "    print(X)\n",
    "\n",
    "func()"
   ]
  },
  {
   "cell_type": "markdown",
   "id": "3f1c4f0a",
   "metadata": {},
   "source": [
    "       Nonlocal variables are used in nested functions whose local scope is not defined. \n",
    "       This means that the variable can be neither in the local nor the global scope. it print the updated value from nested \n",
    "        function"
   ]
  }
 ],
 "metadata": {
  "kernelspec": {
   "display_name": "Python 3 (ipykernel)",
   "language": "python",
   "name": "python3"
  },
  "language_info": {
   "codemirror_mode": {
    "name": "ipython",
    "version": 3
   },
   "file_extension": ".py",
   "mimetype": "text/x-python",
   "name": "python",
   "nbconvert_exporter": "python",
   "pygments_lexer": "ipython3",
   "version": "3.9.7"
  }
 },
 "nbformat": 4,
 "nbformat_minor": 5
}
