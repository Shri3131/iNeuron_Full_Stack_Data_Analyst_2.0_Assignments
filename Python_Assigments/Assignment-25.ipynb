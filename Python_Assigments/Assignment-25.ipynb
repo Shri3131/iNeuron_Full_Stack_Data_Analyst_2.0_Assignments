{
 "cells": [
  {
   "cell_type": "markdown",
   "id": "ae27c6a5",
   "metadata": {},
   "source": [
    "### 1) . What is the difference between enclosing a list comprehension in square brackets and parentheses?"
   ]
  },
  {
   "cell_type": "markdown",
   "id": "ceb81e5d",
   "metadata": {},
   "source": [
    "#### Ans:\n",
    "\n",
    "    List Comprehension with square brackets produces list.\n",
    "    List Comprehension with parentheses creates generators"
   ]
  },
  {
   "cell_type": "code",
   "execution_count": 1,
   "id": "da51cacf",
   "metadata": {},
   "outputs": [
    {
     "data": {
      "text/plain": [
       "[0, 1, 2, 3, 4, 5, 6, 7, 8, 9]"
      ]
     },
     "execution_count": 1,
     "metadata": {},
     "output_type": "execute_result"
    }
   ],
   "source": [
    "lstSquare = [i for i in range(10)]\n",
    "lstSquare"
   ]
  },
  {
   "cell_type": "markdown",
   "id": "baf34c7a",
   "metadata": {},
   "source": [
    "If you are familiar with list comprehensions, then this look likes it might create a tuple which is (1,2,3,4,....), but it is actually a generator expression - this expression is a one time only iterator which will yield the values 1, 2, 3, 4.... in that order"
   ]
  },
  {
   "cell_type": "code",
   "execution_count": 2,
   "id": "8c0f2425",
   "metadata": {},
   "outputs": [
    {
     "data": {
      "text/plain": [
       "<generator object <genexpr> at 0x000001B9571990B0>"
      ]
     },
     "execution_count": 2,
     "metadata": {},
     "output_type": "execute_result"
    }
   ],
   "source": [
    "lstParanthesis = (i for i in range(10))\n",
    "lstParanthesis"
   ]
  },
  {
   "cell_type": "markdown",
   "id": "8247ccbb",
   "metadata": {},
   "source": [
    "### 2) What is the relationship between generators and iterators?"
   ]
  },
  {
   "cell_type": "markdown",
   "id": "ad678f5a",
   "metadata": {},
   "source": [
    "#### Ans:\n",
    "\n",
    "    An iterator is an object which contains a countable number of values and it is used to iterate over iterable objects like list, tuples etc\n",
    "    Using an iterator-\n",
    "    iter() keyword is used to create an iterator containing an iterable object.\n",
    "    next() keyword is used to call the next element in the iterable object.\n",
    "\n",
    "    Generator\n",
    "    It is another way of creating iterators in a simple way where it uses the keyword “yield” instead of returning it in a defined function\n",
    "    Generators are implemented using a function\n",
    "    Here, the yield function returns the data without affecting or exiting the function. \n",
    "    It will return a sequence of data in an iterable format where we need to iterate over the sequence to use the data as they won’t store the entire sequence in the memory\n",
    "    By using next() function we can iterate the output of generator function"
   ]
  },
  {
   "cell_type": "code",
   "execution_count": 3,
   "id": "12e54988",
   "metadata": {},
   "outputs": [
    {
     "name": "stdout",
     "output_type": "stream",
     "text": [
      "Apple\n",
      "Orange\n",
      "Banana\n"
     ]
    }
   ],
   "source": [
    "# iterator\n",
    "iter_list = iter(['Apple', 'Orange', 'Banana'])\n",
    "print(next(iter_list))\n",
    "print(next(iter_list))\n",
    "print(next(iter_list))"
   ]
  },
  {
   "cell_type": "code",
   "execution_count": 4,
   "id": "887325a1",
   "metadata": {},
   "outputs": [],
   "source": [
    "# GEnerator \n",
    "\n",
    "def sq_numbers(n):\n",
    "    for i in range(1, n+1):\n",
    "        yield i*i"
   ]
  },
  {
   "cell_type": "markdown",
   "id": "5545d727",
   "metadata": {},
   "source": [
    "### 3) What are the signs that a function is a generator function?"
   ]
  },
  {
   "cell_type": "markdown",
   "id": "b192ef86",
   "metadata": {},
   "source": [
    "#### Ans:\n",
    "If a function contains at least one yield statement (it may contain other yield or return statements), it becomes a generator function. Both yield and return will return some value from a function."
   ]
  },
  {
   "cell_type": "markdown",
   "id": "50f03863",
   "metadata": {},
   "source": [
    "### 4) What is the purpose of a yield statement?"
   ]
  },
  {
   "cell_type": "markdown",
   "id": "43e945a0",
   "metadata": {},
   "source": [
    "#### Ans:\n",
    "\n",
    "A yield statement looks much like a return statement, except that instead of stopping execution of the function and \n",
    "returning, yield instead provides a value to the code looping over the generator and pauses execution of the generator \n",
    "function"
   ]
  },
  {
   "cell_type": "markdown",
   "id": "a4bac435",
   "metadata": {},
   "source": [
    "### 5) What is the relationship between map calls and list comprehensions? Make a comparison and contrast between the two."
   ]
  },
  {
   "cell_type": "markdown",
   "id": "1534db6c",
   "metadata": {},
   "source": [
    "#### Ans:\n",
    "\n",
    "* Map function:\n",
    "Suppose we have a function and we want to compute this function for different values in a single line of code . This is where map() function plays its role. map() function returns a map object(which is an iterator) of the results after applying the given function to each item of a given iterable (list, tuple etc.)\n",
    "\n",
    "If we already have a function defined, it is often good to use map For example, map(sum, myLists) is more neat than [sum(x) for x in myLists]. You gain the elegance of not having to make up a dummy variable (e.g. sum(x) for x... or sum(_) for _... or sum(readableName) for readableName...) which you have to type twice, just to iterate.\n",
    "\n",
    "* List Comprehension:\n",
    "List Comprehension is a substitute for the lambda function, map(), filter() and reduce()\n",
    "\n",
    "\n",
    "    Comparision :\n",
    "        1. List comprehension is more concise and easier to read as compared to map\n",
    "        2. List comprehension allows filtering. In map, we have no such facility\n",
    "        For example, to print all even numbers in range of 100, we can write [n for n in range(100) if n%2 == 0]. There is \n",
    "        no alternate for it in map\n",
    "        3. List comprehension are used when a list of results is required, where as map only returns a map object and does \n",
    "        not return any list.\n",
    "        4. List comprehension is faster than map when we need to evaluate expressions that are too long or complicated \n",
    "        to express\n",
    "        5. Map is faster in case of calling an already defined function (as no lambda is required)"
   ]
  }
 ],
 "metadata": {
  "kernelspec": {
   "display_name": "Python 3 (ipykernel)",
   "language": "python",
   "name": "python3"
  },
  "language_info": {
   "codemirror_mode": {
    "name": "ipython",
    "version": 3
   },
   "file_extension": ".py",
   "mimetype": "text/x-python",
   "name": "python",
   "nbconvert_exporter": "python",
   "pygments_lexer": "ipython3",
   "version": "3.9.7"
  }
 },
 "nbformat": 4,
 "nbformat_minor": 5
}
