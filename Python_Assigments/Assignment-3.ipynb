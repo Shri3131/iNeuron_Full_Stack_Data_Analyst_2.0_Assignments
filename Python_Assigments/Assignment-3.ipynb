{
 "cells": [
  {
   "cell_type": "markdown",
   "id": "ddd0dc6b",
   "metadata": {},
   "source": [
    "### 1. Why are functions advantageous to have in your programs?"
   ]
  },
  {
   "cell_type": "markdown",
   "id": "7dd33c9c",
   "metadata": {},
   "source": [
    "#### Ans:\n",
    "   * By including functions, we can prevent repeating the same code block repeatedly in a program.\n",
    "   * Python functions, once defined, can be called many times and from anywhere in a program.\n",
    "   * If our Python program is large, it can be separated into numerous functions which is simple to track.\n",
    "   * The key accomplishment of Python functions is we can return as many outputs as we want with different arguments."
   ]
  },
  {
   "cell_type": "markdown",
   "id": "904ee239",
   "metadata": {},
   "source": [
    "### 2. When does the code in a function run: when it&#39;s specified or when it&#39;s called?"
   ]
  },
  {
   "cell_type": "markdown",
   "id": "4d3e13cc",
   "metadata": {},
   "source": [
    "#### Ans: \n",
    "The code in a function executes when the function is called, not when the function is defined."
   ]
  },
  {
   "cell_type": "markdown",
   "id": "2e01bf49",
   "metadata": {},
   "source": [
    "### 3. What statement creates a function?"
   ]
  },
  {
   "cell_type": "markdown",
   "id": "f78e85d2",
   "metadata": {},
   "source": [
    "#### Ans:\n",
    "In Python, you define a function with the def keyword, then write the function identifier (name) followed by parentheses and a colon example: def functionname( );"
   ]
  },
  {
   "cell_type": "markdown",
   "id": "cc2c00d3",
   "metadata": {},
   "source": [
    "### 4. What is the difference between a function and a function call?"
   ]
  },
  {
   "cell_type": "markdown",
   "id": "240e5da2",
   "metadata": {},
   "source": [
    "#### Ans:\n",
    "A function is a piece of code which enhanced the reusability and modularity of your program. It means that piece of code need not be written again. A function call means invoking or calling that function. Unless a function is called there is no use of that function."
   ]
  },
  {
   "cell_type": "markdown",
   "id": "66aabb96",
   "metadata": {},
   "source": [
    "### 5. How many global scopes are there in a Python program? How many local scopes?"
   ]
  },
  {
   "cell_type": "markdown",
   "id": "ef3aa983",
   "metadata": {},
   "source": [
    "#### Ans:\n",
    "There's only one global Python scope per program execution. This scope remains in existence until the program terminates and all its names are forgotten. Otherwise, the next time you were to run the program, the names would remember their values from the previous run."
   ]
  },
  {
   "cell_type": "markdown",
   "id": "a9b06297",
   "metadata": {},
   "source": [
    "### 6. What happens to variables in a local scope when the function call returns?"
   ]
  },
  {
   "cell_type": "markdown",
   "id": "4ceee854",
   "metadata": {},
   "source": [
    "#### Ans:\n",
    "When the execution of the function terminates (returns), the local variables are destroyed."
   ]
  },
  {
   "cell_type": "markdown",
   "id": "de0c06d4",
   "metadata": {},
   "source": [
    "### 7. What is the concept of a return value? Is it possible to have a return value in an expression?"
   ]
  },
  {
   "cell_type": "markdown",
   "id": "1df6c63a",
   "metadata": {},
   "source": [
    "### Ans:\n",
    "A return statement is used to end the execution of the function call and “returns” the result (value of the expression following the return keyword) to the caller. The statements after the return statements are not executed. If the return statement is without any expression, then the special value None is returned. A return statement is overall used to invoke a function so that the passed statements can be executed."
   ]
  },
  {
   "cell_type": "markdown",
   "id": "aae6177c",
   "metadata": {},
   "source": [
    "### 8. If a function does not have a return statement, what is the return value of a call to that function?"
   ]
  },
  {
   "cell_type": "markdown",
   "id": "bbcfb533",
   "metadata": {},
   "source": [
    "#### Ans:\n",
    "If a function doesn't specify a return value, it returns None"
   ]
  },
  {
   "cell_type": "markdown",
   "id": "9fab6bba",
   "metadata": {},
   "source": [
    "### 9. How do you make a function variable refer to the global variable?"
   ]
  },
  {
   "cell_type": "markdown",
   "id": "d0170583",
   "metadata": {},
   "source": [
    "#### Ans:\n",
    "By Using the global keyword to declare which variables are global."
   ]
  },
  {
   "cell_type": "markdown",
   "id": "6b6de4de",
   "metadata": {},
   "source": [
    "### 10. What is the data type of None?"
   ]
  },
  {
   "cell_type": "markdown",
   "id": "c5be3479",
   "metadata": {},
   "source": [
    "#### Ans:\n",
    "None is a data type of its own (NoneType) and only None can be None."
   ]
  },
  {
   "cell_type": "markdown",
   "id": "f22d0e15",
   "metadata": {},
   "source": [
    "### 11. What does the sentence import areallyourpetsnamederic do?"
   ]
  },
  {
   "cell_type": "markdown",
   "id": "02c42077",
   "metadata": {},
   "source": [
    "#### Ans:"
   ]
  },
  {
   "cell_type": "code",
   "execution_count": 1,
   "id": "887d4ebf",
   "metadata": {},
   "outputs": [
    {
     "ename": "ModuleNotFoundError",
     "evalue": "No module named 'areallyourpetsnamederic'",
     "output_type": "error",
     "traceback": [
      "\u001b[1;31m---------------------------------------------------------------------------\u001b[0m",
      "\u001b[1;31mModuleNotFoundError\u001b[0m                       Traceback (most recent call last)",
      "\u001b[1;32m~\\AppData\\Local\\Temp/ipykernel_10028/102801109.py\u001b[0m in \u001b[0;36m<module>\u001b[1;34m\u001b[0m\n\u001b[1;32m----> 1\u001b[1;33m \u001b[1;32mimport\u001b[0m \u001b[0mareallyourpetsnamederic\u001b[0m\u001b[1;33m\u001b[0m\u001b[1;33m\u001b[0m\u001b[0m\n\u001b[0m",
      "\u001b[1;31mModuleNotFoundError\u001b[0m: No module named 'areallyourpetsnamederic'"
     ]
    }
   ],
   "source": [
    " import areallyourpetsnamederic "
   ]
  },
  {
   "cell_type": "markdown",
   "id": "456d0a55",
   "metadata": {},
   "source": [
    "As we cans see above it gives out ModuleNotFoundError: No module named 'areallyourpetsnamederic' error"
   ]
  },
  {
   "cell_type": "markdown",
   "id": "8ea9a3bb",
   "metadata": {},
   "source": [
    "### 12. If you had a bacon() feature in a spam module, what would you call it after importing spam?"
   ]
  },
  {
   "cell_type": "markdown",
   "id": "a8532a17",
   "metadata": {},
   "source": [
    "#### Ans:\n",
    "This function can be called with \n",
    "            \n",
    "            import spam\n",
    "            \n",
    "            spam.bacon()"
   ]
  },
  {
   "cell_type": "markdown",
   "id": "b544cde4",
   "metadata": {},
   "source": [
    "### 13. What can you do to save a programme from crashing if it encounters an error?"
   ]
  },
  {
   "cell_type": "markdown",
   "id": "48e41f08",
   "metadata": {},
   "source": [
    "#### Ans:\n",
    "Each and every exception has to be handled by the programmer to avoid the program from crashing abruptly. This is done by writing additional code in a program to give proper messages or instructions to the user on encountering an exception. This process is known as exception handling."
   ]
  },
  {
   "cell_type": "markdown",
   "id": "245015f3",
   "metadata": {},
   "source": [
    "### 14. What is the purpose of the try clause? What is the purpose of the except clause?"
   ]
  },
  {
   "cell_type": "markdown",
   "id": "4558f7eb",
   "metadata": {},
   "source": [
    "#### Ans:\n",
    "The try block lets you test a block of code for errors. The except block lets you handle the error."
   ]
  },
  {
   "cell_type": "code",
   "execution_count": null,
   "id": "677a9fe1",
   "metadata": {},
   "outputs": [],
   "source": []
  }
 ],
 "metadata": {
  "kernelspec": {
   "display_name": "Python 3 (ipykernel)",
   "language": "python",
   "name": "python3"
  },
  "language_info": {
   "codemirror_mode": {
    "name": "ipython",
    "version": 3
   },
   "file_extension": ".py",
   "mimetype": "text/x-python",
   "name": "python",
   "nbconvert_exporter": "python",
   "pygments_lexer": "ipython3",
   "version": "3.9.7"
  }
 },
 "nbformat": 4,
 "nbformat_minor": 5
}
