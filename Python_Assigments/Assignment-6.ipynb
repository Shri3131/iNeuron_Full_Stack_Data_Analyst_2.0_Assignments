{
 "cells": [
  {
   "cell_type": "markdown",
   "id": "3dc788f9",
   "metadata": {},
   "source": [
    "### 1. What are escape characters, and how do you use them?"
   ]
  },
  {
   "cell_type": "markdown",
   "id": "dff7f21b",
   "metadata": {},
   "source": [
    "#### Ans:\n",
    "\n",
    "Escape characters or sequences are illegal characters for Python and never get printed as part of the output. When backslash is used in Python programming, it allows the program to escape the next characters. It is used by adding backslash \\ followed by the character you want to insert."
   ]
  },
  {
   "cell_type": "markdown",
   "id": "10d4dc06",
   "metadata": {},
   "source": [
    "### 2. What do the escape characters n and t stand for?"
   ]
  },
  {
   "cell_type": "markdown",
   "id": "b71710db",
   "metadata": {},
   "source": [
    "#### Ans:\n",
    "\n",
    "The escape characters “\\t” is a tab, “\\n” is a new line"
   ]
  },
  {
   "cell_type": "markdown",
   "id": "b4b2668d",
   "metadata": {},
   "source": [
    "### 3. What is the way to include backslash characters in a string?"
   ]
  },
  {
   "cell_type": "code",
   "execution_count": 2,
   "id": "ad7cf85a",
   "metadata": {},
   "outputs": [
    {
     "name": "stdout",
     "output_type": "stream",
     "text": [
      "it is a back slash \\ in a sentence\n"
     ]
    }
   ],
   "source": [
    "print('it is a back slash \\\\ in a sentence')"
   ]
  },
  {
   "cell_type": "markdown",
   "id": "e6433c0f",
   "metadata": {},
   "source": [
    "### 4. The string &quot;Howl&#39;s Moving Castle&quot; is a correct value. Why isn&#39;t the single quote character in the word Howl&#39;s not escaped a problem?"
   ]
  },
  {
   "cell_type": "markdown",
   "id": "d793bbcb",
   "metadata": {},
   "source": [
    "#### Ans: \n",
    "The single quote in Howl's is fine because you've used double quotes to mark the beginning and end of the string."
   ]
  },
  {
   "cell_type": "markdown",
   "id": "2e4e955e",
   "metadata": {},
   "source": [
    "### 5. How do you write a string of newlines if you don&#39;t want to use the n character?"
   ]
  },
  {
   "cell_type": "markdown",
   "id": "21051588",
   "metadata": {},
   "source": [
    "#### Ans:\n"
   ]
  },
  {
   "cell_type": "code",
   "execution_count": 3,
   "id": "47021d98",
   "metadata": {},
   "outputs": [
    {
     "name": "stdout",
     "output_type": "stream",
     "text": [
      "Hello World  Wassup?  "
     ]
    }
   ],
   "source": [
    "print(\"Hello World \", end=\" \")\n",
    "print(\"Wassup? \",end=\" \")"
   ]
  },
  {
   "cell_type": "markdown",
   "id": "ec2d92a7",
   "metadata": {},
   "source": [
    "### 6. What are the values of the given expressions?\n",
    "     \"Hello, world!\"[1]\n",
    "     'Hello, world!'[0:5]\n",
    "     'Hello, world!'[:5]\n",
    "     'Hello, world!'[3:]"
   ]
  },
  {
   "cell_type": "markdown",
   "id": "4142642e",
   "metadata": {},
   "source": [
    "#### Ans:"
   ]
  },
  {
   "cell_type": "code",
   "execution_count": 4,
   "id": "3cd99b37",
   "metadata": {},
   "outputs": [
    {
     "data": {
      "text/plain": [
       "'e'"
      ]
     },
     "execution_count": 4,
     "metadata": {},
     "output_type": "execute_result"
    }
   ],
   "source": [
    "\"Hello, world!\"[1]"
   ]
  },
  {
   "cell_type": "code",
   "execution_count": 5,
   "id": "6bd69550",
   "metadata": {},
   "outputs": [
    {
     "data": {
      "text/plain": [
       "'Hello'"
      ]
     },
     "execution_count": 5,
     "metadata": {},
     "output_type": "execute_result"
    }
   ],
   "source": [
    " 'Hello, world!'[0:5]"
   ]
  },
  {
   "cell_type": "code",
   "execution_count": 6,
   "id": "7b9bd23a",
   "metadata": {},
   "outputs": [
    {
     "data": {
      "text/plain": [
       "'Hello'"
      ]
     },
     "execution_count": 6,
     "metadata": {},
     "output_type": "execute_result"
    }
   ],
   "source": [
    "'Hello, world!'[:5]"
   ]
  },
  {
   "cell_type": "code",
   "execution_count": 7,
   "id": "82bfbc6d",
   "metadata": {},
   "outputs": [
    {
     "data": {
      "text/plain": [
       "'lo, world!'"
      ]
     },
     "execution_count": 7,
     "metadata": {},
     "output_type": "execute_result"
    }
   ],
   "source": [
    "'Hello, world!'[3:]"
   ]
  },
  {
   "cell_type": "markdown",
   "id": "63a95c64",
   "metadata": {},
   "source": [
    "### 7. What are the values of the following expressions?\n",
    "    'Hello'.upper()\n",
    "    'Hello'.upper().isupper()\n",
    "    'Hello'.upper().lower()"
   ]
  },
  {
   "cell_type": "markdown",
   "id": "25e955c1",
   "metadata": {},
   "source": [
    "#### Ans: "
   ]
  },
  {
   "cell_type": "code",
   "execution_count": 8,
   "id": "05f8a2d8",
   "metadata": {},
   "outputs": [
    {
     "data": {
      "text/plain": [
       "'HELLO'"
      ]
     },
     "execution_count": 8,
     "metadata": {},
     "output_type": "execute_result"
    }
   ],
   "source": [
    "'Hello'.upper()"
   ]
  },
  {
   "cell_type": "code",
   "execution_count": 9,
   "id": "84a12425",
   "metadata": {},
   "outputs": [
    {
     "data": {
      "text/plain": [
       "True"
      ]
     },
     "execution_count": 9,
     "metadata": {},
     "output_type": "execute_result"
    }
   ],
   "source": [
    "'Hello'.upper().isupper()"
   ]
  },
  {
   "cell_type": "code",
   "execution_count": 10,
   "id": "bb9ed0c0",
   "metadata": {},
   "outputs": [
    {
     "data": {
      "text/plain": [
       "'hello'"
      ]
     },
     "execution_count": 10,
     "metadata": {},
     "output_type": "execute_result"
    }
   ],
   "source": [
    "'Hello'.upper().lower()"
   ]
  },
  {
   "cell_type": "markdown",
   "id": "f2fd84f0",
   "metadata": {},
   "source": [
    "### 8. What are the values of the following expressions?\n",
    " \n",
    " &#39;Remember, remember, the fifth of July.&#39;.split()\n",
    " \n",
    " &#39;-&#39;.join(&#39;There can only one.&#39;.split())"
   ]
  },
  {
   "cell_type": "markdown",
   "id": "4f691eab",
   "metadata": {},
   "source": [
    "#### Ans: "
   ]
  },
  {
   "cell_type": "code",
   "execution_count": 11,
   "id": "24456461",
   "metadata": {},
   "outputs": [
    {
     "data": {
      "text/plain": [
       "['Remember,', 'remember,', 'the', 'fifth', 'of', 'July.']"
      ]
     },
     "execution_count": 11,
     "metadata": {},
     "output_type": "execute_result"
    }
   ],
   "source": [
    "'Remember, remember, the fifth of July.'.split()"
   ]
  },
  {
   "cell_type": "code",
   "execution_count": 12,
   "id": "48e3c5aa",
   "metadata": {},
   "outputs": [
    {
     "data": {
      "text/plain": [
       "'There-can-only-one.'"
      ]
     },
     "execution_count": 12,
     "metadata": {},
     "output_type": "execute_result"
    }
   ],
   "source": [
    "'-'.join('There can only one.'.split())"
   ]
  },
  {
   "cell_type": "markdown",
   "id": "21583053",
   "metadata": {},
   "source": [
    "### 9. What are the methods for right-justifying, left-justifying, and centering a string?"
   ]
  },
  {
   "cell_type": "markdown",
   "id": "431040f7",
   "metadata": {},
   "source": [
    "#### Ans:\n",
    "The functions left-justify, right-justify and center a string in a field of given width. They return a string that is at least width characters wide, created by padding the string s with the character fillchar (default is a space) until the given width on the right, left or both sides. The string is never truncated.\n"
   ]
  },
  {
   "cell_type": "markdown",
   "id": "fc6ccb3e",
   "metadata": {},
   "source": [
    "#### center()\n",
    "This function center aligns the string according to the width specified and fills remaining space of line with blank space if ‘ fillchr ‘ argument is not passed."
   ]
  },
  {
   "cell_type": "code",
   "execution_count": 13,
   "id": "e1dd68c2",
   "metadata": {},
   "outputs": [
    {
     "data": {
      "text/plain": [
       "'**************How are you***************'"
      ]
     },
     "execution_count": 13,
     "metadata": {},
     "output_type": "execute_result"
    }
   ],
   "source": [
    "str =\"How are you\"\n",
    "str.center(40,'*')"
   ]
  },
  {
   "cell_type": "markdown",
   "id": "a44e2dcc",
   "metadata": {},
   "source": [
    "#### ljust()\n",
    "This function left aligns the string according to the width specified and fills remaining space of line with blank space if ‘ fillchr‘ argument is not passed."
   ]
  },
  {
   "cell_type": "code",
   "execution_count": 14,
   "id": "75952982",
   "metadata": {},
   "outputs": [
    {
     "data": {
      "text/plain": [
       "'Hello-----'"
      ]
     },
     "execution_count": 14,
     "metadata": {},
     "output_type": "execute_result"
    }
   ],
   "source": [
    "str =\"Hello\"\n",
    "str.ljust(10,\"-\")"
   ]
  },
  {
   "cell_type": "markdown",
   "id": "d4b885cd",
   "metadata": {},
   "source": [
    "#### rjust()\n",
    "This function right aligns the string according to the width specified and fills remaining space of line with blank space if ‘ fillchr ‘ argument is not passed."
   ]
  },
  {
   "cell_type": "code",
   "execution_count": 15,
   "id": "04136843",
   "metadata": {},
   "outputs": [
    {
     "data": {
      "text/plain": [
       "'*****************************How are you'"
      ]
     },
     "execution_count": 15,
     "metadata": {},
     "output_type": "execute_result"
    }
   ],
   "source": [
    "str =\"How are you\"\n",
    "str.rjust(40,'*')\n"
   ]
  },
  {
   "cell_type": "markdown",
   "id": "232b447a",
   "metadata": {},
   "source": [
    "### 10. What is the best way to remove whitespace characters from the start or end?"
   ]
  },
  {
   "cell_type": "markdown",
   "id": "73e781b9",
   "metadata": {},
   "source": [
    "#### Ans:\n",
    "     lstrip() -> removes white spaces from left of the string\n",
    "     rstrip() -> removes whitespaces from right of the string"
   ]
  }
 ],
 "metadata": {
  "kernelspec": {
   "display_name": "Python 3 (ipykernel)",
   "language": "python",
   "name": "python3"
  },
  "language_info": {
   "codemirror_mode": {
    "name": "ipython",
    "version": 3
   },
   "file_extension": ".py",
   "mimetype": "text/x-python",
   "name": "python",
   "nbconvert_exporter": "python",
   "pygments_lexer": "ipython3",
   "version": "3.9.7"
  }
 },
 "nbformat": 4,
 "nbformat_minor": 5
}
