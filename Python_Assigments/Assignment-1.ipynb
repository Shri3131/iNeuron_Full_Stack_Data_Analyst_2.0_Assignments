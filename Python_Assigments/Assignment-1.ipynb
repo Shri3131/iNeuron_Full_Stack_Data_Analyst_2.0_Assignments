{
 "cells": [
  {
   "cell_type": "markdown",
   "id": "64ad61d3",
   "metadata": {},
   "source": [
    "## Assignment-1 "
   ]
  },
  {
   "cell_type": "markdown",
   "id": "fff01b6b",
   "metadata": {},
   "source": [
    "###  1. In the below elements which of them are values or an expression?\n",
    "#### *\n",
    "#### 'hello'\n",
    "#### -87.8\n",
    "#### -\n",
    "#### /\n",
    "#### +\n",
    "#### 6"
   ]
  },
  {
   "cell_type": "markdown",
   "id": "75337626",
   "metadata": {},
   "source": [
    "#### Ans:  Values -> 'hello', -87.8, 6 ; Operators->  * - / +"
   ]
  },
  {
   "cell_type": "markdown",
   "id": "89ec9e55",
   "metadata": {},
   "source": [
    "### 2. What is the difference between string and variable?"
   ]
  },
  {
   "cell_type": "markdown",
   "id": "13e9114e",
   "metadata": {},
   "source": [
    "#### Ans: A Variable is a store of information, and a String is a type of information you would store in a Variable. A String is usually words which are enclosed with \"  \"\n",
    "\n",
    "#### Eg- String x =\"Hello there..!\" \n",
    "#### x is the Variable, and we declared it as a String, use the single = to assign the text to it."
   ]
  },
  {
   "cell_type": "markdown",
   "id": "332d2d42",
   "metadata": {},
   "source": [
    "### 3. Describe three different data types."
   ]
  },
  {
   "cell_type": "markdown",
   "id": "23cc4bc9",
   "metadata": {},
   "source": [
    "#### Ans: 1) Python Numeric Data type\n",
    "#### In Python, numeric data type is used to hold numeric values.\n",
    "\n",
    "#### Integers, floating-point numbers and complex numbers fall under Python numbers category. They are defined as int, float and complex classes in Python.\n",
    "\n",
    "#### int - holds signed integers of non-limited length.\n",
    "#### float - holds floating decimal points and it's accurate up to 15 decimal places.\n",
    "#### complex - holds complex numbers.\n"
   ]
  },
  {
   "cell_type": "code",
   "execution_count": 1,
   "id": "d0618b4e",
   "metadata": {},
   "outputs": [
    {
     "data": {
      "text/plain": [
       "int"
      ]
     },
     "execution_count": 1,
     "metadata": {},
     "output_type": "execute_result"
    }
   ],
   "source": [
    "num1 = 12 \n",
    "type(num1)"
   ]
  },
  {
   "cell_type": "code",
   "execution_count": 2,
   "id": "0fb57fc0",
   "metadata": {},
   "outputs": [
    {
     "data": {
      "text/plain": [
       "float"
      ]
     },
     "execution_count": 2,
     "metadata": {},
     "output_type": "execute_result"
    }
   ],
   "source": [
    "num2 = 2.0 \n",
    "type(num2)"
   ]
  },
  {
   "cell_type": "code",
   "execution_count": 3,
   "id": "9aca5e79",
   "metadata": {},
   "outputs": [
    {
     "data": {
      "text/plain": [
       "complex"
      ]
     },
     "execution_count": 3,
     "metadata": {},
     "output_type": "execute_result"
    }
   ],
   "source": [
    "num3 = 12j+1\n",
    "type(num3)"
   ]
  },
  {
   "cell_type": "markdown",
   "id": "078a71f1",
   "metadata": {},
   "source": [
    "#### 2) Python List Data Type\n",
    "####  List is an ordered collection of similar or different types of items separated by commas and enclosed within brackets [ ].\n",
    "#### Example:\n"
   ]
  },
  {
   "cell_type": "code",
   "execution_count": 4,
   "id": "19af85b7",
   "metadata": {},
   "outputs": [
    {
     "name": "stdout",
     "output_type": "stream",
     "text": [
      "English\n",
      "Hindi\n"
     ]
    },
    {
     "data": {
      "text/plain": [
       "list"
      ]
     },
     "execution_count": 4,
     "metadata": {},
     "output_type": "execute_result"
    }
   ],
   "source": [
    "Languages = ['English','Telugu','Hindi']\n",
    "print(Languages[0])\n",
    "print(Languages[2])\n",
    "type(Languages)\n"
   ]
  },
  {
   "cell_type": "markdown",
   "id": "a23b2727",
   "metadata": {},
   "source": [
    "#### 3) Python String Data Type\n",
    "#### String is a sequence of characters represented by either single or double quotes. For example,"
   ]
  },
  {
   "cell_type": "code",
   "execution_count": 5,
   "id": "b8d66d2e",
   "metadata": {},
   "outputs": [
    {
     "name": "stdout",
     "output_type": "stream",
     "text": [
      "Shridhar\n"
     ]
    },
    {
     "data": {
      "text/plain": [
       "str"
      ]
     },
     "execution_count": 5,
     "metadata": {},
     "output_type": "execute_result"
    }
   ],
   "source": [
    "Name = 'Shridhar'\n",
    "print(Name)\n",
    "type(Name)"
   ]
  },
  {
   "cell_type": "markdown",
   "id": "68696f62",
   "metadata": {},
   "source": [
    "### 4. What is an expression made up of? What do all expressions do?"
   ]
  },
  {
   "cell_type": "markdown",
   "id": "390b1585",
   "metadata": {},
   "source": [
    "#### Ans: - An Expression is a combination of variables and operators. Expressions perform operation of variable based on \n",
    "#### the operators and evaluates the values to a single variable."
   ]
  },
  {
   "cell_type": "raw",
   "id": "51e5f8e4",
   "metadata": {},
   "source": [
    "varibales :\n",
    "X = 5\n",
    "Y = 10 \n",
    "\n",
    "expression: \n",
    "Z = X + Y \n",
    "Here 'Z' is the expression where it evaluates the values and stores the inforamtion with it "
   ]
  },
  {
   "cell_type": "markdown",
   "id": "e2055dc2",
   "metadata": {},
   "source": [
    "### 5. This assignment statements, like spam = 10. What is the difference between an expression and a statement?"
   ]
  },
  {
   "cell_type": "raw",
   "id": "f98d4f6c",
   "metadata": {},
   "source": [
    "Ans:\n",
    "-The assignemnt statemets assign a value to the variable.\n",
    "- The expressions evaluates the value to a variable.\n",
    "- In spam = 10, 'spam'is assigned with value of 10 \n",
    "- But in expression a = C+B, the value of a depends on the value of C and B."
   ]
  },
  {
   "cell_type": "markdown",
   "id": "74754a3a",
   "metadata": {},
   "source": [
    "### 6. After running the following code, what does the variable bacon contain?\n",
    "bacon = 22  \n",
    "bacon + 1"
   ]
  },
  {
   "cell_type": "markdown",
   "id": "a7d60807",
   "metadata": {},
   "source": [
    "#### Ans: \n",
    "#### The bacon variable is set to 22. The bacon + 1 expression does not reassign the value in bacon (that would need an assignment statement: bacon = bacon + 1)"
   ]
  },
  {
   "cell_type": "markdown",
   "id": "96679bd1",
   "metadata": {},
   "source": [
    "### 7. What should the values of the following two terms be?\n",
    "'spam' + 'spamspam'        \n",
    "'spam' * 3"
   ]
  },
  {
   "cell_type": "code",
   "execution_count": 6,
   "id": "ed5d8ae2",
   "metadata": {
    "scrolled": true
   },
   "outputs": [
    {
     "name": "stdout",
     "output_type": "stream",
     "text": [
      "add: spamspamspam\n",
      "multiply: spamspamspam\n"
     ]
    }
   ],
   "source": [
    "##Ans:\n",
    "add = 'spam' + 'spamspam'\n",
    "multiply = 'spam' * 3\n",
    "print(f'add: {add}')\n",
    "print(f'multiply: {multiply}')\n",
    "      \n",
    "### Both expressions evaluate to the string 'spamspamspam'"
   ]
  },
  {
   "cell_type": "markdown",
   "id": "82913ba3",
   "metadata": {},
   "source": [
    "### 8. Why is eggs a valid variable name while 100 is invalid?"
   ]
  },
  {
   "cell_type": "markdown",
   "id": "c7cfe543",
   "metadata": {},
   "source": [
    "#### Ans: Variable names cannot begin with a number."
   ]
  },
  {
   "cell_type": "markdown",
   "id": "90317ef0",
   "metadata": {},
   "source": [
    "#### Example:"
   ]
  },
  {
   "cell_type": "code",
   "execution_count": 7,
   "id": "a5b05575",
   "metadata": {},
   "outputs": [
    {
     "data": {
      "text/plain": [
       "50"
      ]
     },
     "execution_count": 7,
     "metadata": {},
     "output_type": "execute_result"
    }
   ],
   "source": [
    "eggs = 50\n",
    "eggs"
   ]
  },
  {
   "cell_type": "code",
   "execution_count": 8,
   "id": "b24e0380",
   "metadata": {
    "scrolled": true
   },
   "outputs": [
    {
     "ename": "SyntaxError",
     "evalue": "cannot assign to literal (Temp/ipykernel_18148/3767380435.py, line 1)",
     "output_type": "error",
     "traceback": [
      "\u001b[1;36m  File \u001b[1;32m\"C:\\Users\\shrid\\AppData\\Local\\Temp/ipykernel_18148/3767380435.py\"\u001b[1;36m, line \u001b[1;32m1\u001b[0m\n\u001b[1;33m    10 = 50\u001b[0m\n\u001b[1;37m    ^\u001b[0m\n\u001b[1;31mSyntaxError\u001b[0m\u001b[1;31m:\u001b[0m cannot assign to literal\n"
     ]
    }
   ],
   "source": [
    "10 = 50"
   ]
  },
  {
   "cell_type": "markdown",
   "id": "4be19a6c",
   "metadata": {},
   "source": [
    "### 9. What three functions can be used to get the integer, floating-point number, or string version of a value?"
   ]
  },
  {
   "cell_type": "markdown",
   "id": "5e5fbc78",
   "metadata": {},
   "source": [
    "#### Answer: The following functions\n",
    "- int()\n",
    "- float()\n",
    "- str()  will convert the values to integer, float or string versions of the values passed to them"
   ]
  },
  {
   "cell_type": "markdown",
   "id": "c08a5cb6",
   "metadata": {},
   "source": [
    "### 10. Why does this expression cause an error? How can you fix it?\n",
    "\n",
    "'I have eaten ' + 99 +  'burritos.'"
   ]
  },
  {
   "cell_type": "code",
   "execution_count": 9,
   "id": "2c7eea66",
   "metadata": {},
   "outputs": [
    {
     "ename": "TypeError",
     "evalue": "can only concatenate str (not \"int\") to str",
     "output_type": "error",
     "traceback": [
      "\u001b[1;31m---------------------------------------------------------------------------\u001b[0m",
      "\u001b[1;31mTypeError\u001b[0m                                 Traceback (most recent call last)",
      "\u001b[1;32m~\\AppData\\Local\\Temp/ipykernel_18148/1304403834.py\u001b[0m in \u001b[0;36m<module>\u001b[1;34m\u001b[0m\n\u001b[1;32m----> 1\u001b[1;33m \u001b[1;34m'I have eaten '\u001b[0m \u001b[1;33m+\u001b[0m \u001b[1;36m99\u001b[0m \u001b[1;33m+\u001b[0m \u001b[1;34m'burritos.'\u001b[0m\u001b[1;33m\u001b[0m\u001b[1;33m\u001b[0m\u001b[0m\n\u001b[0m",
      "\u001b[1;31mTypeError\u001b[0m: can only concatenate str (not \"int\") to str"
     ]
    }
   ],
   "source": [
    "'I have eaten ' + 99 + 'burritos.'"
   ]
  },
  {
   "cell_type": "markdown",
   "id": "9f86c17b",
   "metadata": {},
   "source": [
    "As per the above error we can note that we cannot add integer with str directly we have to convert int into str type then the above expression will work"
   ]
  },
  {
   "cell_type": "code",
   "execution_count": 10,
   "id": "9357f197",
   "metadata": {},
   "outputs": [
    {
     "data": {
      "text/plain": [
       "'I have eaten 99burritos.'"
      ]
     },
     "execution_count": 10,
     "metadata": {},
     "output_type": "execute_result"
    }
   ],
   "source": [
    "'I have eaten ' + str(99) + 'burritos.'"
   ]
  },
  {
   "cell_type": "code",
   "execution_count": null,
   "id": "0cae5ace",
   "metadata": {},
   "outputs": [],
   "source": []
  }
 ],
 "metadata": {
  "kernelspec": {
   "display_name": "Python 3 (ipykernel)",
   "language": "python",
   "name": "python3"
  },
  "language_info": {
   "codemirror_mode": {
    "name": "ipython",
    "version": 3
   },
   "file_extension": ".py",
   "mimetype": "text/x-python",
   "name": "python",
   "nbconvert_exporter": "python",
   "pygments_lexer": "ipython3",
   "version": "3.9.7"
  }
 },
 "nbformat": 4,
 "nbformat_minor": 5
}
