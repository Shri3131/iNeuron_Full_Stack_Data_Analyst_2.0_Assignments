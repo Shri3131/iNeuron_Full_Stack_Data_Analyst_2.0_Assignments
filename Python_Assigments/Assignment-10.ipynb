{
 "cells": [
  {
   "cell_type": "markdown",
   "id": "206f5ecb",
   "metadata": {},
   "source": [
    "### 1. How do you distinguish between shutil.copy() and shutil.copytree()?"
   ]
  },
  {
   "cell_type": "markdown",
   "id": "9f9c87df",
   "metadata": {},
   "source": [
    "#### Ans:\n",
    "    shutil.copy : Copies a single file\n",
    "    shutil.copytree() : will copy an entire folder and every folder and file contained in it"
   ]
  },
  {
   "cell_type": "markdown",
   "id": "7be35462",
   "metadata": {},
   "source": [
    "### 2. What function is used to rename files??"
   ]
  },
  {
   "cell_type": "markdown",
   "id": "f51716af",
   "metadata": {},
   "source": [
    "#### Ans:\n",
    "    import os\n",
    "    os.rename(\"text.txt\",\"testnew.txt\")"
   ]
  },
  {
   "cell_type": "markdown",
   "id": "c212862e",
   "metadata": {},
   "source": [
    "### 3. What is the difference between the delete functions in the send2trash and shutil modules?"
   ]
  },
  {
   "cell_type": "markdown",
   "id": "688e7550",
   "metadata": {},
   "source": [
    "#### Ans: \n",
    "import shutil\n",
    "shutil.retree():\n",
    "The shutil module’s rmtree() function can be used to delete files or folders. But, this function delete the files\n",
    "permanently. \n",
    "The operations cannot be undone if there were any accidental deletions performed \n",
    "\n",
    "import send2trash\n",
    "send2trash.send2trash() : Using send2trash, we can send files to the Trash or Recycle Bin instead of permanently \n",
    "deleting them.\n",
    "If the directory contains files or other folders, those are also deleted. A TrashPermissionError exception is raised, \n",
    "in case a file could not be deleted due to permission error or any other unexpected reason."
   ]
  },
  {
   "cell_type": "markdown",
   "id": "82d4bfdd",
   "metadata": {},
   "source": [
    "### 4.ZipFile objects have a close() method just like File objects’ close() method. What ZipFile method is equivalent to File objects’ open() method?"
   ]
  },
  {
   "cell_type": "markdown",
   "id": "ff1f4df0",
   "metadata": {},
   "source": [
    "#### Ans: \n",
    "    from zipfile import Zipfile\n",
    "     with ZipFile(file_name, 'r') as zip: -> this code will open specified zipfile for us. we can use zip objext to preform other operation the ziplife. like zip.read()"
   ]
  },
  {
   "cell_type": "markdown",
   "id": "3752aa40",
   "metadata": {},
   "source": [
    "### 5. Create a programme that searches a folder tree for files with a certain file extension (such as .pdf or .jpg). Copy these files from whatever location they are in to a new folder."
   ]
  },
  {
   "cell_type": "code",
   "execution_count": 6,
   "id": "ad18b9ef",
   "metadata": {},
   "outputs": [],
   "source": [
    "import os, shutil\n",
    "\n",
    "def selectiveCopy(source, extensions, destFolder):\n",
    "    folder = os.path.abspath(source)\n",
    "    destFolder = os.path.abspath(destFolder)\n",
    "    print('Looking in', source, 'for files with extensions of', ', '.join(extensions))\n",
    "    for foldername, subfolders, filenames in os.walk(source):\n",
    "        for filename in filenames:\n",
    "            name, extension = os.path.splitext(filename)\n",
    "            if extension in extensions:\n",
    "                fileAbsPath = foldername + os.path.sep + filename\n",
    "                print('Coping', fileAbsPath, 'to', destFolder)\n",
    "                shutil.copy(fileAbsPath, destFolder)"
   ]
  },
  {
   "cell_type": "code",
   "execution_count": 11,
   "id": "3b9c7db7",
   "metadata": {},
   "outputs": [
    {
     "name": "stdout",
     "output_type": "stream",
     "text": [
      "Looking in C:\\Users\\shrid\\Desktop\\GDA\\iNeuron_ML_DA\\Excel for files with extensions of .pdf, .jpg\n",
      "Coping C:\\Users\\shrid\\Desktop\\GDA\\iNeuron_ML_DA\\Excel\\1. Excel Introduction.pdf to C:\\Users\\shrid\\Desktop\n",
      "Coping C:\\Users\\shrid\\Desktop\\GDA\\iNeuron_ML_DA\\Excel\\15. Datetime Functions.pdf to C:\\Users\\shrid\\Desktop\n",
      "Coping C:\\Users\\shrid\\Desktop\\GDA\\iNeuron_ML_DA\\Excel\\1646106939701.jpg to C:\\Users\\shrid\\Desktop\n",
      "Coping C:\\Users\\shrid\\Desktop\\GDA\\iNeuron_ML_DA\\Excel\\25th Feb FSDA2.0(Text Functions In Excel).pdf to C:\\Users\\shrid\\Desktop\n",
      "Coping C:\\Users\\shrid\\Desktop\\GDA\\iNeuron_ML_DA\\Excel\\8. Conditional Formatting.pdf to C:\\Users\\shrid\\Desktop\n"
     ]
    }
   ],
   "source": [
    "extensions = ['.pdf','.jpg']\n",
    "source = r\"C:\\Users\\shrid\\Desktop\\GDA\\iNeuron_ML_DA\\Excel\"\n",
    "destFolder = r\"C:\\Users\\shrid\\Desktop\"\n",
    "selectiveCopy(source, extensions, destFolder)"
   ]
  }
 ],
 "metadata": {
  "kernelspec": {
   "display_name": "Python 3 (ipykernel)",
   "language": "python",
   "name": "python3"
  },
  "language_info": {
   "codemirror_mode": {
    "name": "ipython",
    "version": 3
   },
   "file_extension": ".py",
   "mimetype": "text/x-python",
   "name": "python",
   "nbconvert_exporter": "python",
   "pygments_lexer": "ipython3",
   "version": "3.9.7"
  }
 },
 "nbformat": 4,
 "nbformat_minor": 5
}
