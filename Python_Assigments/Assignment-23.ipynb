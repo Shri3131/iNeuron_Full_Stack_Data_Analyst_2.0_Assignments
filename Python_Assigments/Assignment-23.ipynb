{
 "cells": [
  {
   "cell_type": "markdown",
   "id": "bf41aa12",
   "metadata": {},
   "source": [
    "### 1. What is the result of the code, and why?\n",
    "&gt;&gt;&gt; def func(a, b=6, c=8):\n",
    "print(a, b, c)\n",
    "&gt;&gt;&gt; func(1, 2)"
   ]
  },
  {
   "cell_type": "code",
   "execution_count": 1,
   "id": "caa94350",
   "metadata": {},
   "outputs": [
    {
     "name": "stdout",
     "output_type": "stream",
     "text": [
      "1 2 8\n"
     ]
    }
   ],
   "source": [
    "def func(a, b=6, c=8):\n",
    "    print(a, b, c)\n",
    "func(1, 2)"
   ]
  },
  {
   "cell_type": "markdown",
   "id": "174f99c9",
   "metadata": {},
   "source": [
    "      This funtion is taking a positional argument and 2 keyward argument. When function is called, parameter passed \n",
    "       are a=1,b=2. When the function is executed , parameter c=8 will be taken by default as its a keyword argument.\n",
    "       solution is = 1,2,8"
   ]
  },
  {
   "cell_type": "markdown",
   "id": "862638d8",
   "metadata": {},
   "source": [
    "### 2. What is the result of this code, and why?\n",
    "    def func(a, b, c=5):\n",
    "        print(a, b, c)\n",
    "    func(1, c=3, b=2)"
   ]
  },
  {
   "cell_type": "code",
   "execution_count": 2,
   "id": "59859654",
   "metadata": {},
   "outputs": [
    {
     "name": "stdout",
     "output_type": "stream",
     "text": [
      "1 2 3\n"
     ]
    }
   ],
   "source": [
    "def func(a, b, c=5):\n",
    "    print(a, b, c)\n",
    "func(1, c=3, b=2)"
   ]
  },
  {
   "cell_type": "markdown",
   "id": "e6603dde",
   "metadata": {},
   "source": [
    "    When we make function call, order will be positional argument and then keywords arguments. we can pass the keyword arguments in any order we want."
   ]
  },
  {
   "cell_type": "markdown",
   "id": "718defd5",
   "metadata": {},
   "source": [
    "### 3. How about this code: what is its result, and why?\n",
    "    def func(a, *pargs):\n",
    "        print(a, pargs)\n",
    "    func(1, 2, 3)"
   ]
  },
  {
   "cell_type": "code",
   "execution_count": 3,
   "id": "d6bac710",
   "metadata": {},
   "outputs": [
    {
     "name": "stdout",
     "output_type": "stream",
     "text": [
      "1 (2, 3)\n"
     ]
    }
   ],
   "source": [
    "def func(a, *pargs):\n",
    "    print(a, pargs)\n",
    "func(1, 2, 3)"
   ]
  },
  {
   "cell_type": "markdown",
   "id": "5d66a70c",
   "metadata": {},
   "source": [
    "The return type of *args parameter is tuple, where as **kargs will be dictionary"
   ]
  },
  {
   "cell_type": "markdown",
   "id": "b73bea04",
   "metadata": {},
   "source": [
    "### 4. What does this code print, and why?\n",
    "    def func(a, **kargs):\n",
    "        print(a, kargs)\n",
    "    func(a=1, c=3, b=2)"
   ]
  },
  {
   "cell_type": "code",
   "execution_count": 4,
   "id": "fa0d9107",
   "metadata": {},
   "outputs": [
    {
     "name": "stdout",
     "output_type": "stream",
     "text": [
      "1 {'c': 3, 'b': 2}\n"
     ]
    }
   ],
   "source": [
    "def func(a, **kargs):\n",
    "    print(a, kargs)\n",
    "func(a=1, c=3, b=2)"
   ]
  },
  {
   "cell_type": "markdown",
   "id": "0a98b040",
   "metadata": {},
   "source": [
    "  The return type of  **kargs is  dictionary"
   ]
  },
  {
   "cell_type": "markdown",
   "id": "6faf2706",
   "metadata": {},
   "source": [
    "### 5. What gets printed by this, and explain?\n",
    "    def func(a, b, c=8, d=5): \n",
    "        print(a, b, c, d)\n",
    "    func(1, *(5, 6))"
   ]
  },
  {
   "cell_type": "code",
   "execution_count": 5,
   "id": "7a1b8ccf",
   "metadata": {},
   "outputs": [
    {
     "name": "stdout",
     "output_type": "stream",
     "text": [
      "1 5 6 5\n"
     ]
    }
   ],
   "source": [
    "def func(a, b, c=8, d=5): \n",
    "    print(a, b, c, d)\n",
    "func(1, *(5, 6))"
   ]
  },
  {
   "cell_type": "markdown",
   "id": "efb8b905",
   "metadata": {},
   "source": [
    "    '*' is the unpacking operator and are operators that unpack the values from iterable objects in Python. The single \n",
    "    asterisk operator * can be used on any iterable that Python provides, while the double asterisk operator ** can only \n",
    "    be used on dictionaries. In the example the value *(5,6) will be unpacked and will be assigned to b and c and passed \n",
    "    as arguments, d =5 will taken by defaults are keyword arguments.\n"
   ]
  },
  {
   "cell_type": "markdown",
   "id": "33bd7c55",
   "metadata": {},
   "source": [
    "### 6. what is the result of this, and explain?\n",
    "    def func(a, b, c): \n",
    "        a = 2; b[0] = 'x'; c['a'] = 'y'\n",
    "    \n",
    "    l=1; m=[1]; n={'a':0}\n",
    "    print(l,m,n)\n",
    "    func(l, m, n)\n",
    "\n",
    "    l, m, n"
   ]
  },
  {
   "cell_type": "code",
   "execution_count": 6,
   "id": "fdfddfbb",
   "metadata": {},
   "outputs": [
    {
     "name": "stdout",
     "output_type": "stream",
     "text": [
      "1 [1] {'a': 0}\n"
     ]
    },
    {
     "data": {
      "text/plain": [
       "(1, ['x'], {'a': 'y'})"
      ]
     },
     "execution_count": 6,
     "metadata": {},
     "output_type": "execute_result"
    }
   ],
   "source": [
    "def func(a, b, c): \n",
    "    a = 2; b[0] = 'x'; c['a'] = 'y'\n",
    "\n",
    "l=1; m=[1]; n={'a':0}\n",
    "print(l,m,n)\n",
    "func(l, m, n)\n",
    "\n",
    "l, m, n"
   ]
  },
  {
   "cell_type": "markdown",
   "id": "1666c48f",
   "metadata": {},
   "source": [
    "    Here in the code, the list and dict are passed as argument, and those are mutable. Here the list l and parametr b point \n",
    "    to the same list in the memeory location where as dict n and c point to the same memory location. Any updates to this \n",
    "    list will update in the memory location\n",
    "\n",
    "    l = 1 , integer values, immutable, m is list, mutable, n is dict, mutable."
   ]
  }
 ],
 "metadata": {
  "kernelspec": {
   "display_name": "Python 3 (ipykernel)",
   "language": "python",
   "name": "python3"
  },
  "language_info": {
   "codemirror_mode": {
    "name": "ipython",
    "version": 3
   },
   "file_extension": ".py",
   "mimetype": "text/x-python",
   "name": "python",
   "nbconvert_exporter": "python",
   "pygments_lexer": "ipython3",
   "version": "3.9.7"
  }
 },
 "nbformat": 4,
 "nbformat_minor": 5
}
