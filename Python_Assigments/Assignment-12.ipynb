{
 "cells": [
  {
   "cell_type": "markdown",
   "id": "82b1e725",
   "metadata": {},
   "source": [
    "### 1. In what modes should the PdfFileReader() and PdfFileWriter() File objects will be opened?"
   ]
  },
  {
   "cell_type": "markdown",
   "id": "53e148aa",
   "metadata": {},
   "source": [
    "#### Ans: \n",
    "For PdfFileReader() file objects should be opened in rb -> read binary mode, Whereas for PdfFileWriter() file objects should be opened in wb -> write binary mode."
   ]
  },
  {
   "cell_type": "markdown",
   "id": "b11b3498",
   "metadata": {},
   "source": [
    "### 2. From a PdfFileReader object, how do you get a Page object for page 5?"
   ]
  },
  {
   "cell_type": "markdown",
   "id": "eba91756",
   "metadata": {},
   "source": [
    "#### Ans: \n",
    "\n",
    "PdfFileReader class provides a method called getPage(page_no) to get a page object. Calling getPage(4) will return a Page object for page 5 since page 0 is the first page"
   ]
  },
  {
   "cell_type": "markdown",
   "id": "c62c83f8",
   "metadata": {},
   "source": [
    "### 3. What PdfFileReader variable stores the number of pages in the PDF document?"
   ]
  },
  {
   "cell_type": "markdown",
   "id": "9596f214",
   "metadata": {},
   "source": [
    "#### Ans:\n",
    "The PdfFileReader.numPages variable stores an integer of the number of pages in the PdfFileReader object"
   ]
  },
  {
   "cell_type": "markdown",
   "id": "d6c556b1",
   "metadata": {},
   "source": [
    "### 4. If a PdfFileReader object’s PDF is encrypted with the password swordfish, what must you do before you can obtain Page objects from it?"
   ]
  },
  {
   "cell_type": "markdown",
   "id": "bb15d413",
   "metadata": {},
   "source": [
    "#### Ans:\n",
    "before we obtain the page object, the pdf has to be decrypted by calling .decrypt('swordfish')"
   ]
  },
  {
   "cell_type": "markdown",
   "id": "e2f7d23f",
   "metadata": {},
   "source": [
    "### 5. What methods do you use to rotate a page?"
   ]
  },
  {
   "cell_type": "markdown",
   "id": "247852d4",
   "metadata": {},
   "source": [
    "#### Ans:\n",
    "The rotateClockwise() and rotateCounterClockwise() methods. The degrees to rotate is passed as an integer argument"
   ]
  },
  {
   "cell_type": "markdown",
   "id": "10f23411",
   "metadata": {},
   "source": [
    "### 6. What is the difference between a Run object and a Paragraph object?"
   ]
  },
  {
   "cell_type": "markdown",
   "id": "c25f0d5a",
   "metadata": {},
   "source": [
    "#### Ans:\n",
    "    Paragraph Object :  A document contains multiple paragraphs. A paragraph begins on a new line and contains multiple \n",
    "    runs. \n",
    "    The Document object contains a list of Paragraph objects for the paragraphs in the document. (A new paragraph begins \n",
    "    whenever the user presses ENTER or RETURN while typing in a Word document.)\n",
    "\n",
    "    Run Objects :\n",
    "    Runs are contiguous groups of characters within a paragraph with the same style"
   ]
  },
  {
   "cell_type": "markdown",
   "id": "fcb87057",
   "metadata": {},
   "source": [
    "### 7. How do you obtain a list of Paragraph objects for a Document object that’s stored in a variable named doc?"
   ]
  },
  {
   "cell_type": "markdown",
   "id": "93c7db51",
   "metadata": {},
   "source": [
    "#### Ans:\n",
    "    #!pip install python-docx\n",
    "    import docx\n",
    "    doc = docx.Document('abc.docx')\n",
    "    doc.paragraphs\n",
    "#### By using doc.paragraphs\n"
   ]
  },
  {
   "cell_type": "markdown",
   "id": "605eae7d",
   "metadata": {},
   "source": [
    "### 8. What type of object has bold, underline, italic, strike, and outline variables?"
   ]
  },
  {
   "cell_type": "markdown",
   "id": "f65b4ea6",
   "metadata": {},
   "source": [
    "#### Ans:\n",
    " A Run object has bold, underline,italic,strike and outline variables"
   ]
  },
  {
   "cell_type": "markdown",
   "id": "65b03c46",
   "metadata": {},
   "source": [
    "### 9. What is the difference between False, True, and None for the bold variable?"
   ]
  },
  {
   "cell_type": "markdown",
   "id": "fa8cefe5",
   "metadata": {},
   "source": [
    "#### Ans:\n",
    "    Runs can be further styled using text attributes. Each attribute can be set to one of three values:\n",
    "    True (the attribute is always enabled, no matter what other styles are applied to the run),\n",
    "    False (the attribute is always disabled),\n",
    "    None (defaults to whatever the run’s style is set to)\n",
    "\n",
    " True always makes the Run object bolded and False makes it always not bolded, no matter what the style’s bold setting is None will make the Run object just use the style’s bold setting"
   ]
  },
  {
   "cell_type": "markdown",
   "id": "a6498a7c",
   "metadata": {},
   "source": [
    "### 10. How do you create a Document object for a new Word document?"
   ]
  },
  {
   "cell_type": "markdown",
   "id": "537915a7",
   "metadata": {},
   "source": [
    "#### Ans:\n",
    "By Calling the docx.Document() function."
   ]
  },
  {
   "cell_type": "markdown",
   "id": "66f20414",
   "metadata": {},
   "source": [
    "### 11. How do you add a paragraph with the text &#39;Hello, there!&#39; to a Document object stored in a variable named doc?"
   ]
  },
  {
   "cell_type": "markdown",
   "id": "efd01513",
   "metadata": {},
   "source": [
    "#### Ans:    \n",
    "    import docx\n",
    "    doc = docx.Document()\n",
    "\n",
    "    doc.add_paragraph('Hello there!')\n",
    "    doc.save('hellothere.docx')"
   ]
  },
  {
   "cell_type": "markdown",
   "id": "3840acb6",
   "metadata": {},
   "source": [
    "### 12. What integers represent the levels of headings available in Word documents?"
   ]
  },
  {
   "cell_type": "markdown",
   "id": "fbacb946",
   "metadata": {},
   "source": [
    "#### Ans:\n",
    "    integer from 0 to 4\n",
    "        The arguments to add_heading() are a string of the heading text and an integer from 0 to 4. The integer 0 makes the   heading the Title style, which is used for the top of the document. \n",
    "        Integers 1 to 4 are for various heading levels, with 1 being the main heading and 4 the lowest subheading"
   ]
  }
 ],
 "metadata": {
  "kernelspec": {
   "display_name": "Python 3 (ipykernel)",
   "language": "python",
   "name": "python3"
  },
  "language_info": {
   "codemirror_mode": {
    "name": "ipython",
    "version": 3
   },
   "file_extension": ".py",
   "mimetype": "text/x-python",
   "name": "python",
   "nbconvert_exporter": "python",
   "pygments_lexer": "ipython3",
   "version": "3.9.7"
  }
 },
 "nbformat": 4,
 "nbformat_minor": 5
}
